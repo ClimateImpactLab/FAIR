{
 "cells": [
  {
   "cell_type": "markdown",
   "metadata": {},
   "source": [
    "# FAIR\n",
    "\n",
    "This notebook gives some simple examples of how to run and use the Finite Amplitude Impulse Response (FAIR) model. \n",
    "\n",
    "The  Finite  Amplitude  Impulse  Response  (FAIR)  model  is  a  simple emissions-based climate model. It allows the user to input emissions of greenhouse gases and short lived climate forcers in order to estimate global mean atmospheric GHG concentrations, radiative forcing and temperature anomalies.\n",
    "\n",
    "The original FAIR model (v1.0) was developed to simulate the earth system response to CO$_2$ emissions, with all non-CO$_2$ forcing implemented as an \"external\" source. It was developed by Richard Millar, Zebedee Nicholls, Pierre Friedlingstein and Myles Allen. The motivation for developing it and its formulation is documented in  a  paper  published  in  Atmospheric  Chemistry  and  Physics  in  2017 (doi:10.5194/acp-2016-405).\n",
    "\n",
    "The emissions-based model extends FAIR by replacing all sources of non-CO$_2$ forcing with relationships that are based on the source emissions, with the exception of natural forcings (viz. variations in solar irradiance and volcanic eruptions). It is useful for assessing future policy commitments to anthropogenic emissions (something which we can control) than to radiative forcing (something which is less certain and which we can only partially control).\n",
    "\n",
    "The emissions based model was developed by Chris Smith with input from Piers Forster, Leighton Regayre and Giovanni Passerello, in parallel with Nicolas Leach, Richard Millar and Myles Allen."
   ]
  },
  {
   "cell_type": "code",
   "execution_count": null,
   "metadata": {},
   "outputs": [],
   "source": [
    "%matplotlib inline"
   ]
  },
  {
   "cell_type": "code",
   "execution_count": null,
   "metadata": {},
   "outputs": [],
   "source": [
    "import fair"
   ]
  },
  {
   "cell_type": "code",
   "execution_count": null,
   "metadata": {},
   "outputs": [],
   "source": [
    "import numpy as np\n",
    "\n",
    "from matplotlib import pyplot as plt\n",
    "plt.style.use('seaborn-darkgrid')\n",
    "plt.rcParams['figure.figsize'] = (16, 9)"
   ]
  },
  {
   "cell_type": "markdown",
   "metadata": {},
   "source": [
    "## Basic run\n",
    "\n",
    "Here we show how FAIR can be run with step change CO$_2$ emissions and sinusoidal non-CO$_2$ forcing timeseries."
   ]
  },
  {
   "cell_type": "code",
   "execution_count": null,
   "metadata": {},
   "outputs": [],
   "source": [
    "emissions = np.zeros(250)\n",
    "emissions[125:] = 10.0\n",
    "other_rf = np.zeros(emissions.size)\n",
    "for x in range(0, emissions.size):\n",
    "    other_rf[x] = 0.5 * np.sin(2 * np.pi * (x) / 14.0)\n",
    "    \n",
    "C,F,T = fair.forward.fair_scm(\n",
    "    emissions=emissions,\n",
    "    other_rf=other_rf,\n",
    "    useMultigas=False\n",
    ")\n",
    "\n",
    "fig = plt.figure()\n",
    "ax1 = fig.add_subplot(221)\n",
    "ax1.plot(range(0, emissions.size), emissions, color='black')\n",
    "ax1.set_ylabel('Emissions (GtC)')\n",
    "ax2 = fig.add_subplot(222)\n",
    "ax2.plot(range(0, emissions.size), C, color='blue')\n",
    "ax2.set_ylabel('CO$_2$ concentrations (ppm)')\n",
    "ax3 = fig.add_subplot(223)\n",
    "ax3.plot(range(0, emissions.size), other_rf, color='orange')\n",
    "ax3.set_ylabel('Other radiative forcing (W.m$^{-2}$)')\n",
    "ax4 = fig.add_subplot(224)\n",
    "ax4.plot(range(0, emissions.size), T, color='red')\n",
    "ax4.set_ylabel('Temperature anomaly (K)');"
   ]
  },
  {
   "cell_type": "markdown",
   "metadata": {},
   "source": [
    "## RCPs\n",
    "\n",
    "We can run FAIR with the CO$_2$ emissions and non-CO$_2$ forcing from the four representative concentration pathway scenarios. To use the emissions-based version specify ```useMultigas=True``` in the call to ```fair_scm()```.\n",
    "\n",
    "By default in multi-gas mode, volcanic and solar forcing plus natural emissions of methane and nitrous oxide are switched on."
   ]
  },
  {
   "cell_type": "code",
   "execution_count": null,
   "metadata": {},
   "outputs": [],
   "source": [
    "from fair.RCPs import rcp3pd, rcp45, rcp6, rcp85\n",
    "\n",
    "fig = plt.figure()\n",
    "ax1 = fig.add_subplot(221)\n",
    "ax2 = fig.add_subplot(222)\n",
    "ax3 = fig.add_subplot(223)\n",
    "ax4 = fig.add_subplot(224)\n",
    "\n",
    "C26, F26, T26 = fair.forward.fair_scm(emissions=rcp3pd.Emissions.emissions)\n",
    "ax1.plot(rcp3pd.Emissions.year, rcp3pd.Emissions.co2_fossil, color='green', label='RCP3PD')\n",
    "ax2.plot(rcp3pd.Emissions.year, C26[:, 0], color='green')\n",
    "ax3.plot(rcp3pd.Emissions.year, np.sum(F26, axis=1), color='green')\n",
    "ax4.plot(rcp3pd.Emissions.year, T26, color='green')\n",
    "\n",
    "C45, F45, T45 = fair.forward.fair_scm(emissions=rcp45.Emissions.emissions)\n",
    "ax1.plot(rcp45.Emissions.year, rcp45.Emissions.co2_fossil, color='blue', label='RCP4.5')\n",
    "ax2.plot(rcp45.Emissions.year, C45[:, 0], color='blue')\n",
    "ax3.plot(rcp45.Emissions.year, np.sum(F45, axis=1), color='blue')\n",
    "ax4.plot(rcp45.Emissions.year, T45, color='blue')\n",
    "\n",
    "C60, F60, T60 = fair.forward.fair_scm(emissions=rcp6.Emissions.emissions)\n",
    "ax1.plot(rcp6.Emissions.year, rcp6.Emissions.co2_fossil, color='red', label='RCP6')\n",
    "ax2.plot(rcp6.Emissions.year, C60[:, 0], color='red')\n",
    "ax3.plot(rcp6.Emissions.year, np.sum(F60, axis=1), color='red')\n",
    "ax4.plot(rcp6.Emissions.year, T60, color='red')\n",
    "\n",
    "C85, F85, T85 = fair.forward.fair_scm(emissions=rcp85.Emissions.emissions)\n",
    "ax1.plot(rcp85.Emissions.year, rcp85.Emissions.co2_fossil, color='black', label='RCP8.5')\n",
    "ax2.plot(rcp85.Emissions.year, C85[:, 0], color='black')\n",
    "ax3.plot(rcp85.Emissions.year, np.sum(F85, axis=1), color='black')\n",
    "ax4.plot(rcp85.Emissions.year, T85, color='black')\n",
    "\n",
    "ax1.set_ylabel('Fossil CO$_2$ Emissions (GtC)')\n",
    "ax1.legend()\n",
    "ax2.set_ylabel('CO$_2$ concentrations (ppm)')\n",
    "ax3.set_ylabel('Total radiative forcing (W.m$^{-2}$)')\n",
    "ax4.set_ylabel('Temperature anomaly (K)');"
   ]
  },
  {
   "cell_type": "markdown",
   "metadata": {},
   "source": [
    "## Concentrations of well-mixed greenhouse gases\n",
    "\n",
    "The output of FAIR (in most cases) is a 3-element tuple of concentrations, effective radiative forcing and temperature change since pre-industrial. Concentrations are a 31-column array of greenhouse gases. The indices correspond to the order given in the RCP concentration datasets (table 2 in Smith et al., https://www.geosci-model-dev-discuss.net/gmd-2017-266/). We can investigate the GHG concentrations coming out of the model:"
   ]
  },
  {
   "cell_type": "code",
   "execution_count": null,
   "metadata": {},
   "outputs": [],
   "source": [
    "fig = plt.figure()\n",
    "ax1 = fig.add_subplot(221)\n",
    "ax2 = fig.add_subplot(222)\n",
    "ax3 = fig.add_subplot(223)\n",
    "ax4 = fig.add_subplot(224)\n",
    "\n",
    "ax1.plot(rcp3pd.Emissions.year, C26[:,1], color='green', label='RCP3PD')\n",
    "ax1.plot(rcp45.Emissions.year, C45[:,1], color='blue', label='RCP4.5')\n",
    "ax1.plot(rcp6.Emissions.year, C60[:,1], color='red', label='RCP6')\n",
    "ax1.plot(rcp85.Emissions.year, C85[:,1], color='black', label='RCP8.5')\n",
    "ax1.set_title(\"Methane concentrations, ppb\")\n",
    "\n",
    "ax2.plot(rcp3pd.Emissions.year, C26[:,2], color='green', label='RCP3PD')\n",
    "ax2.plot(rcp45.Emissions.year, C45[:,2], color='blue', label='RCP4.5')\n",
    "ax2.plot(rcp6.Emissions.year, C60[:,2], color='red', label='RCP6')\n",
    "ax2.plot(rcp85.Emissions.year, C85[:,2], color='black', label='RCP8.5')\n",
    "ax2.set_title(\"Nitrous oxide concentrations, ppb\")\n",
    "\n",
    "# How to convert the H and F gases to single-species equivalents? Weight by radiative efficiency.\n",
    "from fair.constants import radeff\n",
    "C26_hfc134a_eq = np.sum(C26[:,3:15]*radeff.aslist[3:15],axis=1)/radeff.HFC134A   # indices 3:15 are HFCs and PFCs\n",
    "C45_hfc134a_eq = np.sum(C45[:,3:15]*radeff.aslist[3:15],axis=1)/radeff.HFC134A\n",
    "C60_hfc134a_eq = np.sum(C60[:,3:15]*radeff.aslist[3:15],axis=1)/radeff.HFC134A\n",
    "C85_hfc134a_eq = np.sum(C85[:,3:15]*radeff.aslist[3:15],axis=1)/radeff.HFC134A\n",
    "\n",
    "C26_cfc12_eq = np.sum(C26[:,15:31]*radeff.aslist[15:31],axis=1)/radeff.CFC12   # indices 15:31 are ozone depleters\n",
    "C45_cfc12_eq = np.sum(C45[:,15:31]*radeff.aslist[15:31],axis=1)/radeff.CFC12\n",
    "C60_cfc12_eq = np.sum(C60[:,15:31]*radeff.aslist[15:31],axis=1)/radeff.CFC12\n",
    "C85_cfc12_eq = np.sum(C85[:,15:31]*radeff.aslist[15:31],axis=1)/radeff.CFC12\n",
    "\n",
    "ax3.plot(rcp3pd.Emissions.year, C26_hfc134a_eq, color='green', label='RCP3PD')\n",
    "ax3.plot(rcp45.Emissions.year, C45_hfc134a_eq, color='blue', label='RCP4.5')\n",
    "ax3.plot(rcp6.Emissions.year, C60_hfc134a_eq, color='red', label='RCP6')\n",
    "ax3.plot(rcp85.Emissions.year, C85_hfc134a_eq, color='black', label='RCP8.5')\n",
    "ax3.set_title(\"HFC134a equivalent concentrations, ppt\")\n",
    "\n",
    "ax4.plot(rcp3pd.Emissions.year, C26_cfc12_eq, color='green', label='RCP3PD')\n",
    "ax4.plot(rcp45.Emissions.year, C45_cfc12_eq, color='blue', label='RCP4.5')\n",
    "ax4.plot(rcp6.Emissions.year, C60_cfc12_eq, color='red', label='RCP6')\n",
    "ax4.plot(rcp85.Emissions.year, C85_cfc12_eq, color='black', label='RCP8.5')\n",
    "ax4.set_title(\"CFC12 equivalent concentrations, ppt\")\n",
    "ax1.legend()"
   ]
  },
  {
   "cell_type": "markdown",
   "metadata": {},
   "source": [
    "## Radiative forcing\n",
    "We consider 13 separate species of radiative forcing: CO$_2$, CH$_4$, N$_2$O, minor GHGs, tropospheric ozone, stratospheric ozone, stratospheric water vapour from methane oxidation, contrails, aerosols, black carbon on snow, land use change, volcanic and solar (table 1 in Smith et al., https://www.geosci-model-dev-discuss.net/gmd-2017-266/). Here we show some of the more interesting examples."
   ]
  },
  {
   "cell_type": "code",
   "execution_count": null,
   "metadata": {},
   "outputs": [],
   "source": [
    "fig = plt.figure()\n",
    "ax1 = fig.add_subplot(221)\n",
    "ax2 = fig.add_subplot(222)\n",
    "ax3 = fig.add_subplot(223)\n",
    "ax4 = fig.add_subplot(224)\n",
    "\n",
    "ax1.plot(rcp3pd.Emissions.year, F26[:,4], color='green', label='RCP3PD')\n",
    "ax1.plot(rcp45.Emissions.year, F45[:,4], color='blue', label='RCP4.5')\n",
    "ax1.plot(rcp6.Emissions.year, F60[:,4], color='red', label='RCP6')\n",
    "ax1.plot(rcp85.Emissions.year, F85[:,4], color='black', label='RCP8.5')\n",
    "ax1.set_title(\"Tropospheric ozone forcing, W m$^{-2}$\")\n",
    "\n",
    "ax2.plot(rcp3pd.Emissions.year, F26[:,5], color='green', label='RCP3PD')\n",
    "ax2.plot(rcp45.Emissions.year, F45[:,5], color='blue', label='RCP4.5')\n",
    "ax2.plot(rcp6.Emissions.year, F60[:,5], color='red', label='RCP6')\n",
    "ax2.plot(rcp85.Emissions.year, F85[:,5], color='black', label='RCP8.5')\n",
    "ax2.set_title(\"Stratospheric ozone forcing, W m$^{-2}$\")\n",
    "\n",
    "ax3.plot(rcp3pd.Emissions.year, F26[:,8], color='green', label='RCP3PD')\n",
    "ax3.plot(rcp45.Emissions.year, F45[:,8], color='blue', label='RCP4.5')\n",
    "ax3.plot(rcp6.Emissions.year, F60[:,8], color='red', label='RCP6')\n",
    "ax3.plot(rcp85.Emissions.year, F85[:,8], color='black', label='RCP8.5')\n",
    "ax3.set_title(\"Aerosol forcing, W ~m$^{-2}$\")\n",
    "\n",
    "ax4.plot(rcp3pd.Emissions.year, F26[:,10], color='green', label='RCP3PD')\n",
    "ax4.plot(rcp45.Emissions.year, F45[:,10], color='blue', label='RCP4.5')\n",
    "ax4.plot(rcp6.Emissions.year, F60[:,10], color='red', label='RCP6')\n",
    "ax4.plot(rcp85.Emissions.year, F85[:,10], color='black', label='RCP8.5')\n",
    "ax4.set_title(\"Land use forcing, W m$^{-2}$\")\n",
    "ax1.legend();"
   ]
  },
  {
   "cell_type": "markdown",
   "metadata": {},
   "source": [
    "## Ensemble generation\n",
    "An advantage of FAIR is that it is very quick to run (much less than a second on an average machine). Therefore it can be used to generate probabilistic future ensembles. We'll show a 100-member ensemble."
   ]
  },
  {
   "cell_type": "code",
   "execution_count": null,
   "metadata": {},
   "outputs": [],
   "source": [
    "from scipy import stats\n",
    "\n",
    "# generate some (bad) TCR and ECS pairs\n",
    "tcrecs = stats.norm.rvs(size=(100,2), loc=[1.75,3], scale=[0.4,0.8], random_state=38571)\n",
    "\n",
    "# generate some forcing scale factors with SD of 10% of the best estimate\n",
    "F_scale = stats.norm.rvs(size=(100,13), loc=1, scale=0.1, random_state=40000)\n",
    "\n",
    "# do the same for the carbon cycle parameters\n",
    "r0 = stats.norm.rvs(size=100, loc=35, scale=3.5, random_state=41000)\n",
    "rc = stats.norm.rvs(size=100, loc=0.019, scale=0.0019, random_state=42000)\n",
    "rt = stats.norm.rvs(size=100, loc=4.165, scale=0.4165, random_state=45000)\n",
    "\n",
    "T = np.zeros((736,100))"
   ]
  },
  {
   "cell_type": "code",
   "execution_count": null,
   "metadata": {},
   "outputs": [],
   "source": [
    "%%time\n",
    "for i in range(100):\n",
    "    _, _, T[:,i] = fair.forward.fair_scm(emissions=rcp85.Emissions.emissions,\n",
    "                        r0 = r0[i],\n",
    "                        rc = rc[i],\n",
    "                        rt = rt[i],\n",
    "                        tcrecs = tcrecs[i,:],\n",
    "                        scale = F_scale[i,:],\n",
    "                        F2x = 3.74*F_scale[i,0])   # scale F2x with the CO2 scaling factor for consistency"
   ]
  },
  {
   "cell_type": "code",
   "execution_count": null,
   "metadata": {},
   "outputs": [],
   "source": [
    "fig = plt.figure()\n",
    "ax1 = fig.add_subplot(111)\n",
    "ax1.plot(rcp85.Emissions.year, T);"
   ]
  },
  {
   "cell_type": "markdown",
   "metadata": {},
   "source": [
    "The resulting projections show a large spread. Some of these ensemble members are unrealistic, ranging from around 0.4 to 2.0 K temperature change in the present day, whereas we know in reality it is more like 0.9 (plus or minus 0.2). Therefore we can constrain this ensemble to observations."
   ]
  },
  {
   "cell_type": "code",
   "execution_count": null,
   "metadata": {},
   "outputs": [],
   "source": [
    "import urllib2\n",
    "from fair.tools.constrain import hist_temp\n",
    "\n",
    "# load up Cowtan and Way data remotely\n",
    "url = 'http://www-users.york.ac.uk/~kdc3/papers/coverage2013/had4_krig_annual_v2_0_0.txt'\n",
    "response = urllib2.urlopen(url)\n",
    "\n",
    "CW = np.loadtxt(response)\n",
    "constrained = np.zeros(100, dtype=bool)\n",
    "\n",
    "for i in range(100):\n",
    "    # we use observed trend from 1880 to 2016\n",
    "    constrained[i], _, _, _, _ = hist_temp(CW[30:167,1], T[1880-1765:2017-1765,i], CW[30:167,0])\n",
    "    \n",
    "# How many ensemble members passed the constraint?\n",
    "print('%d ensemble members passed historical constraint' % np.sum(constrained))"
   ]
  },
  {
   "cell_type": "code",
   "execution_count": null,
   "metadata": {},
   "outputs": [],
   "source": [
    "# What does this do to the ensemble?\n",
    "fig = plt.figure()\n",
    "ax1 = fig.add_subplot(111)\n",
    "ax1.plot(rcp85.Emissions.year, T[:,constrained]);"
   ]
  },
  {
   "cell_type": "markdown",
   "metadata": {},
   "source": [
    "Some, but not all, of the higher end scenarios have been constrained out, but there is still quite a large range of total temperature change projected for 2500 even under this constraint.\n",
    "\n",
    "From these constraints it is possible to obtain posterior distributions on effective radiative forcing, ECS, TCR, TCRE and other metrics."
   ]
  },
  {
   "cell_type": "code",
   "execution_count": null,
   "metadata": {},
   "outputs": [],
   "source": []
  }
 ],
 "metadata": {
  "kernelspec": {
   "display_name": "Python 2",
   "language": "python",
   "name": "python2"
  },
  "language_info": {
   "codemirror_mode": {
    "name": "ipython",
    "version": 2
   },
   "file_extension": ".py",
   "mimetype": "text/x-python",
   "name": "python",
   "nbconvert_exporter": "python",
   "pygments_lexer": "ipython2",
   "version": "2.7.14"
  }
 },
 "nbformat": 4,
 "nbformat_minor": 2
}
