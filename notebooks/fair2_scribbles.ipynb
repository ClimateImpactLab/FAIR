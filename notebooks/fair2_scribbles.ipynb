{
 "cells": [
  {
   "cell_type": "code",
   "execution_count": 1,
   "metadata": {},
   "outputs": [],
   "source": [
    "import pint\n",
    "class ScmUnitRegistry(pint.UnitRegistry):  # type: ignore\n",
    "    \"\"\"\n",
    "    Unit registry class for OpenSCM. Provides some convenience methods to add standard\n",
    "    unit and contexts.\n",
    "    \"\"\"\n",
    "\n",
    "    _contexts_loaded: bool = False\n",
    "\n",
    "    def add_standards(self):\n",
    "        \"\"\"\n",
    "        Add standard units.\n",
    "        Has to be done separately because of pint's weird initializing.\n",
    "        \"\"\"\n",
    "#        self._add_gases(_standard_gases)\n",
    "\n",
    "        self.define(\"a = 1 * year = annum = yr\")\n",
    "        self.define(\"h = hour\")\n",
    "        self.define(\"d = day\")\n",
    "#        self.define(\"degreeC = degC\")\n",
    "#        self.define(\"degreeF = degF\")\n",
    "        self.define(\"kt = 1000 * t\")  # since kt is used for \"knot\" in the defaults\n",
    "    \n",
    "        self.define('volume_mixing_ratio = [vmr] = vmr')\n",
    "        self.define('parts_per_million = 1e-6 * volume_mixing_ratio = ppm')\n",
    "        self.define('parts_per_billion = 1e-9 * volume_mixing_ratio = ppb')\n",
    "        self.define('parts_per_trillion = 1e-12 * volume_mixing_ratio = ppt')"
   ]
  },
  {
   "cell_type": "code",
   "execution_count": 2,
   "metadata": {},
   "outputs": [],
   "source": [
    "# from openscm.units import _unit_registry as unit\n",
    "# #unit = ScmUnitRegistry()\n",
    "# kt = unit(\"kt\")\n",
    "# unit('kt')"
   ]
  },
  {
   "cell_type": "code",
   "execution_count": 3,
   "metadata": {},
   "outputs": [
    {
     "name": "stdout",
     "output_type": "stream",
     "text": [
      "10.0 kt / year\n",
      "5.1352e+18 kilogram\n",
      "16.04 gram / mole 28.97 gram / mole\n",
      "0.0035171166180203023 parts_per_billion\n"
     ]
    }
   ],
   "source": [
    "import numpy as np\n",
    "from fair.constants.general import M_ATMOS\n",
    "from fair.constants.molwt import AIR as M_AIR   # this will be moved\n",
    "from fair.constants import molwt\n",
    "import pint\n",
    "\n",
    "unit = pint.UnitRegistry()\n",
    "#unit.add_standards()\n",
    "unit.define('volume_mixing_ratio = [vmr] = vmr')\n",
    "unit.define('percent = 0.01 * volume_mixing_ratio = pc')\n",
    "unit.define('parts_per_million = 1e-6 * volume_mixing_ratio = ppm')\n",
    "unit.define('parts_per_billion = 1e-9 * volume_mixing_ratio = ppb')\n",
    "unit.define('parts_per_trillion = 1e-12 * volume_mixing_ratio = ppt')\n",
    "unit.define('kt = 1000 * t')\n",
    "unit.define('kilometric_ton = kt')\n",
    "emissions = 10 * unit.kt / unit.year\n",
    "M_ATM = M_ATMOS * unit.kg\n",
    "m_ch4 = molwt.CH4 * unit.g / unit.mol\n",
    "M_AIR = molwt.AIR * unit.g / unit.mol\n",
    "timestep = 1 * unit.year\n",
    "\n",
    "print(emissions)\n",
    "print(M_ATM)\n",
    "print(m_ch4, M_AIR)\n",
    "\n",
    "# this is per year\n",
    "print((emissions/M_ATM * M_AIR/m_ch4 * unit.year * unit.vmr).to_base_units().to('ppb'))"
   ]
  },
  {
   "cell_type": "code",
   "execution_count": 4,
   "metadata": {},
   "outputs": [],
   "source": [
    "library = ['CO2', 'CH4', 'N2O']\n",
    "\n",
    "class Species:\n",
    " \n",
    "    def __init__(self, name=None, efficacy=1):\n",
    "        self.name = name\n",
    "        self.efficacy = efficacy\n",
    "        \n",
    "        #if name in library:   # pandas datatable of stats or a csv?\n",
    "            # load up all the stuff above\n",
    "            # self.lifetime = library[name].lifetime\n",
    "            # self.radiative_efficiency = library[name].radiative_efficiency and so on\n",
    "    \n",
    "    def set_emissions(self, anthropogenic, natural=0, timestep=unit.year):\n",
    "        self.emissions = anthropogenic\n",
    "        self.natural_emissions = natural\n",
    "        self.timestep = timestep\n",
    "        return Emissions(anthropogenic, natural, timestep)\n",
    "    \n",
    "    def set_concentrations(self):\n",
    "        return Concentrations()\n",
    "        \n",
    "    def set_lifetime(self, lifetime):\n",
    "        self.lifetime = lifetime\n",
    "        \n",
    "    def calculate_concentrations(self):\n",
    "        # for GHGs with no temperature feedback or inter-species dependence\n",
    "        emissions = self.emissions + self.natural_emissions\n",
    "        nt = len(emissions)   # ensures that either emissions or natural_emissions are array - still need to check it is 1D\n",
    "        concentrations = np.ones(nt+1) * np.nan * unit.vmr\n",
    "\n",
    "        def _forward(c0, em, ts, lt, vm):   # put this in its own module and import\n",
    "            c1 = c0*np.exp(-ts/lt) + lt*em*vm * (1.-np.exp(-ts/lt))\n",
    "            return c1\n",
    "            \n",
    "        concentrations[0] = self.concentration_t0\n",
    "        \n",
    "        for t in range(nt):\n",
    "            concentrations[t+1] = _forward(concentrations[t], emissions[t], \n",
    "                                         timestep, self.lifetime, self.kg_to_vmr)\n",
    "\n",
    "        self.concentrations = concentrations\n",
    "        return Concentrations(concentrations)\n",
    "\n",
    "    def calculate_forcing(self, scale=1):\n",
    "        # need checks to determine that scale is scalar or array with same length as \n",
    "        self.radiative_forcing = (self.concentrations - self.reference_concentration) * self.radiative_efficiency * scale\n",
    "        self.radiative_forcing.ito(unit.watt / unit.m**2)\n",
    "        return RadiativeForcing(self.radiative_forcing)\n",
    "\n",
    "    \n",
    "class GreenhouseGas(Species):\n",
    "    def __init__(self, radiative_efficiency, reference_concentration, concentration_t0, molecular_weight):\n",
    "        self.radiative_efficiency    = radiative_efficiency\n",
    "        self.reference_concentration = reference_concentration\n",
    "        self.concentration_t0        = concentration_t0\n",
    "        self.molecular_weight        = molecular_weight\n",
    "        self.kg_to_vmr               = M_AIR/self.molecular_weight / M_ATM * 1.0 * unit.vmr\n",
    "    \n",
    "        \n",
    "class Emissions:\n",
    "    def __init__(self, anthropogenic, natural, timestep):\n",
    "        self.emissions=anthropogenic\n",
    "        self.natural_emissions=natural\n",
    "        self.timestep=timestep\n",
    "        \n",
    "        \n",
    "class Concentrations:\n",
    "    def __init__(self, concentrations):\n",
    "        self.concentrations = concentrations\n",
    "    \n",
    "    \n",
    "class RadiativeForcing:\n",
    "    def __init__(self, radiative_forcing):\n",
    "        self.radiative_forcing = radiative_forcing\n",
    "        \n",
    "        \n",
    "class Temperature:\n",
    "    def __init__(self):\n",
    "        pass"
   ]
  },
  {
   "cell_type": "code",
   "execution_count": 5,
   "metadata": {},
   "outputs": [
    {
     "data": {
      "text/plain": [
       "<__main__.Concentrations at 0x623f188>"
      ]
     },
     "execution_count": 5,
     "metadata": {},
     "output_type": "execute_result"
    }
   ],
   "source": [
    "CFC12 = GreenhouseGas(radiative_efficiency=0.32 * unit.watt / unit.m**2 / unit.ppb,\n",
    "                   reference_concentration=0 * unit.ppt,\n",
    "                   concentration_t0=0 * unit.ppt,\n",
    "                   molecular_weight=120.91 * unit.g / unit.mol)\n",
    "CFC12.set_emissions(np.ones(1000)*500 * unit.kt / unit.year,\n",
    "                  natural = 0.00 * unit.kt / unit.year)\n",
    "CFC12.set_lifetime(100 * unit.years)\n",
    "CFC12.calculate_concentrations()"
   ]
  },
  {
   "cell_type": "code",
   "execution_count": 6,
   "metadata": {},
   "outputs": [
    {
     "ename": "TypeError",
     "evalue": "__init__() missing 4 required positional arguments: 'radiative_efficiency', 'reference_concentration', 'concentration_t0', and 'molecular_weight'",
     "output_type": "error",
     "traceback": [
      "\u001b[1;31m---------------------------------------------------------------------------\u001b[0m",
      "\u001b[1;31mTypeError\u001b[0m                                 Traceback (most recent call last)",
      "\u001b[1;32m<ipython-input-6-ce94e612c5f5>\u001b[0m in \u001b[0;36m<module>\u001b[1;34m\u001b[0m\n\u001b[1;32m----> 1\u001b[1;33m \u001b[0mN2O\u001b[0m \u001b[1;33m=\u001b[0m \u001b[0mGreenhouseGas\u001b[0m\u001b[1;33m(\u001b[0m\u001b[1;33m)\u001b[0m\u001b[1;33m\u001b[0m\u001b[1;33m\u001b[0m\u001b[0m\n\u001b[0m\u001b[0;32m      2\u001b[0m \u001b[0mN2O\u001b[0m\u001b[1;33m.\u001b[0m\u001b[0mset_concentrations\u001b[0m\u001b[1;33m(\u001b[0m\u001b[0mnp\u001b[0m\u001b[1;33m.\u001b[0m\u001b[0mlinspace\u001b[0m\u001b[1;33m(\u001b[0m\u001b[1;36m272\u001b[0m\u001b[1;33m,\u001b[0m\u001b[1;36m500\u001b[0m\u001b[1;33m,\u001b[0m\u001b[1;36m801\u001b[0m\u001b[1;33m)\u001b[0m\u001b[1;33m)\u001b[0m\u001b[1;33m\u001b[0m\u001b[1;33m\u001b[0m\u001b[0m\n",
      "\u001b[1;31mTypeError\u001b[0m: __init__() missing 4 required positional arguments: 'radiative_efficiency', 'reference_concentration', 'concentration_t0', and 'molecular_weight'"
     ]
    }
   ],
   "source": [
    "N2O = GreenhouseGas(radiative_efficiency=0.32 * unit.watt / unit.m**2 / unit.ppb)\n",
    "N2O.set_concentrations(np.linspace(272,500,801))"
   ]
  },
  {
   "cell_type": "code",
   "execution_count": 21,
   "metadata": {},
   "outputs": [
    {
     "data": {
      "text/plain": [
       "True"
      ]
     },
     "execution_count": 21,
     "metadata": {},
     "output_type": "execute_result"
    }
   ],
   "source": [
    "kiloton = 1*unit.kt\n",
    "kiloton.check('[mass]')"
   ]
  },
  {
   "cell_type": "code",
   "execution_count": 22,
   "metadata": {},
   "outputs": [
    {
     "data": {
      "text/html": [
       "megametric_ton"
      ],
      "text/latex": [
       "$\\mathrm{megametric_ton}$"
      ],
      "text/plain": [
       "<Unit('megametric_ton')>"
      ]
     },
     "execution_count": 22,
     "metadata": {},
     "output_type": "execute_result"
    }
   ],
   "source": [
    "unit.Mt"
   ]
  },
  {
   "cell_type": "code",
   "execution_count": 23,
   "metadata": {},
   "outputs": [
    {
     "data": {
      "image/png": "[encoded data removed]",
      "text/plain": [
       "<Figure size 432x288 with 1 Axes>"
      ]
     },
     "metadata": {
      "needs_background": "light"
     },
     "output_type": "display_data"
    }
   ],
   "source": [
    "%matplotlib inline\n",
    "import matplotlib.pyplot as pl\n",
    "years = np.arange(1001) * unit.year\n",
    "pl.plot(years, CFC12.concentrations.to('ppt'))\n",
    "pl.xlabel('year')\n",
    "pl.ylabel('CFC12 concentration (ppt)');"
   ]
  },
  {
   "cell_type": "code",
   "execution_count": 7,
   "metadata": {},
   "outputs": [
    {
     "data": {
      "text/plain": [
       "<__main__.RadiativeForcing at 0x1164e548>"
      ]
     },
     "execution_count": 7,
     "metadata": {},
     "output_type": "execute_result"
    }
   ],
   "source": [
    "CFC12.calculate_forcing()"
   ]
  },
  {
   "cell_type": "code",
   "execution_count": 8,
   "metadata": {},
   "outputs": [
    {
     "data": {
      "image/png": "[encoded data removed]",
      "text/plain": [
       "<Figure size 432x288 with 1 Axes>"
      ]
     },
     "metadata": {
      "needs_background": "light"
     },
     "output_type": "display_data"
    }
   ],
   "source": [
    "pl.plot(years, CFC12.radiative_forcing.to('W/m**2'))\n",
    "pl.xlabel('year')\n",
    "pl.ylabel('Radiative forcing');"
   ]
  },
  {
   "cell_type": "code",
   "execution_count": 9,
   "metadata": {},
   "outputs": [
    {
     "data": {
      "text/plain": [
       "Text(0, 0.5, 'temperature')"
      ]
     },
     "execution_count": 9,
     "metadata": {},
     "output_type": "execute_result"
    },
    {
     "data": {
      "image/png": "[encoded data removed]",
      "text/plain": [
       "<Figure size 432x288 with 1 Axes>"
      ]
     },
     "metadata": {
      "needs_background": "light"
     },
     "output_type": "display_data"
    }
   ],
   "source": [
    "# this I think is currently wrong but has not been followed through fully from fair 1.0 - just illustrative\n",
    "def calculate_temperature(radiative_forcing,\n",
    "                          efficacy=1,\n",
    "                          d=np.array([239, 4.1]) * unit.year,\n",
    "                          q=np.array([0.33,0.41]) * unit.K * unit.m**2 / unit.watt,\n",
    "                          timestep = 1 * unit.year\n",
    "                         ):\n",
    "    # radiative forcing needs to be smartly handled here\n",
    "    # radiative_forcing = sum_over_all_species_forcing\n",
    "    nbox = len(q)\n",
    "    nt = len(radiative_forcing)\n",
    "    T_j = np.ones((nt, nbox)) * np.nan * unit.K\n",
    "    T   = np.ones((nt)) * np.nan * unit.K\n",
    "    \n",
    "    # Update the thermal response boxes\n",
    "    T_j[0,:] = (q/d)*radiative_forcing[0] * efficacy * timestep\n",
    "\n",
    "    # Sum the thermal response boxes to get the total temperature anomaly\n",
    "    T[0]=np.sum(T_j[0,:],axis=-1)\n",
    "    \n",
    "    for t in range(1,nt):\n",
    "        # Update the thermal response boxes\n",
    "        T_j[t,:] = T_j[t-1,:]*(1 - np.exp(-timestep/d)) + q * (1-np.exp((-timestep)/d)) * radiative_forcing[t] * efficacy\n",
    "        # Sum the thermal response boxes to get the total temperature\n",
    "        T[t]=np.sum(T_j[t,:],axis=-1)\n",
    "    return T\n",
    "        \n",
    "T = calculate_temperature(CFC12.radiative_forcing)\n",
    "pl.plot(years, T)\n",
    "pl.xlabel('year')\n",
    "pl.ylabel('temperature')"
   ]
  },
  {
   "cell_type": "code",
   "execution_count": null,
   "metadata": {},
   "outputs": [],
   "source": []
  },
  {
   "cell_type": "code",
   "execution_count": 25,
   "metadata": {},
   "outputs": [
    {
     "ename": "AttributeError",
     "evalue": "knot",
     "output_type": "error",
     "traceback": [
      "\u001b[1;31m---------------------------------------------------------------------------\u001b[0m",
      "\u001b[1;31mAttributeError\u001b[0m                            Traceback (most recent call last)",
      "\u001b[1;32m<ipython-input-25-df936fdb2da0>\u001b[0m in \u001b[0;36m<module>\u001b[1;34m\u001b[0m\n\u001b[0;32m      1\u001b[0m \u001b[1;32mimport\u001b[0m \u001b[0mpint\u001b[0m\u001b[1;33m\u001b[0m\u001b[1;33m\u001b[0m\u001b[0m\n\u001b[0;32m      2\u001b[0m \u001b[0mureg\u001b[0m \u001b[1;33m=\u001b[0m \u001b[0mpint\u001b[0m\u001b[1;33m.\u001b[0m\u001b[0mUnitRegistry\u001b[0m\u001b[1;33m(\u001b[0m\u001b[1;33m)\u001b[0m\u001b[1;33m\u001b[0m\u001b[1;33m\u001b[0m\u001b[0m\n\u001b[1;32m----> 3\u001b[1;33m \u001b[1;32mdel\u001b[0m \u001b[0mureg\u001b[0m\u001b[1;33m.\u001b[0m\u001b[0mknot\u001b[0m\u001b[1;33m\u001b[0m\u001b[1;33m\u001b[0m\u001b[0m\n\u001b[0m",
      "\u001b[1;31mAttributeError\u001b[0m: knot"
     ]
    }
   ],
   "source": [
    "import pint\n",
    "ureg = pint.UnitRegistry()\n",
    "del ureg.knot"
   ]
  },
  {
   "cell_type": "code",
   "execution_count": 26,
   "metadata": {},
   "outputs": [
    {
     "data": {
      "text/plain": [
       "'1.4+3.g52e1df7.dirty'"
      ]
     },
     "execution_count": 26,
     "metadata": {},
     "output_type": "execute_result"
    }
   ],
   "source": [
    "fair.__version__"
   ]
  },
  {
   "cell_type": "code",
   "execution_count": 25,
   "metadata": {},
   "outputs": [],
   "source": [
    "import fair"
   ]
  },
  {
   "cell_type": "code",
   "execution_count": null,
   "metadata": {},
   "outputs": [],
   "source": []
  }
 ],
 "metadata": {
  "kernelspec": {
   "display_name": "Python 3",
   "language": "python",
   "name": "python3"
  },
  "language_info": {
   "codemirror_mode": {
    "name": "ipython",
    "version": 3
   },
   "file_extension": ".py",
   "mimetype": "text/x-python",
   "name": "python",
   "nbconvert_exporter": "python",
   "pygments_lexer": "ipython3",
   "version": "3.7.4"
  }
 },
 "nbformat": 4,
 "nbformat_minor": 2
}
