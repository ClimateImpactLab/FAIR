{
 "cells": [
  {
   "cell_type": "code",
   "execution_count": 1,
   "metadata": {
    "collapsed": false,
    "deletable": true,
    "editable": true
   },
   "outputs": [],
   "source": [
    "import pint\n",
    "import numpy as np\n",
    "import matplotlib.pyplot as pl\n",
    "from fair.constants.general import M_ATMOS\n",
    "from fair.constants.molwt import AIR as M_AIR\n",
    "from fair.constants import molwt\n",
    "\n",
    "class ScmUnitRegistry(pint.UnitRegistry):\n",
    "    \"\"\"\n",
    "    Unit registry class for OpenSCM. Provides some convenience methods to add standard\n",
    "    unit and contexts.\n",
    "    \"\"\"\n",
    "\n",
    "    def add_standards(self):\n",
    "        \"\"\"\n",
    "        Add standard units.\n",
    "        Has to be done separately because of pint's weird initializing.\n",
    "        \"\"\"\n",
    "#        self._add_gases(_standard_gases)\n",
    "\n",
    "        self.define(\"a = 1 * year = annum = yr\")\n",
    "        self.define(\"h = hour\")\n",
    "        self.define(\"d = day\")\n",
    "        self.define(\"kt = 1000 * t\")  # since kt is used for \"knot\" in the defaults\n",
    "        self.define('volume_mixing_ratio = [vmr] = vmr')\n",
    "        self.define('parts_per_million = 1e-6 * volume_mixing_ratio = ppm')\n",
    "        self.define('parts_per_billion = 1e-9 * volume_mixing_ratio = ppb')\n",
    "        self.define('parts_per_trillion = 1e-12 * volume_mixing_ratio = ppt')\n",
    "        self.define('kilometric_ton = kt')"
   ]
  },
  {
   "cell_type": "code",
   "execution_count": 2,
   "metadata": {
    "collapsed": false,
    "deletable": true,
    "editable": true
   },
   "outputs": [],
   "source": [
    "unit = ScmUnitRegistry()\n",
    "unit.add_standards()"
   ]
  },
  {
   "cell_type": "code",
   "execution_count": 3,
   "metadata": {
    "collapsed": false,
    "deletable": true,
    "editable": true
   },
   "outputs": [],
   "source": [
    "M_ATM = M_ATMOS * unit.kg                       # stick this into the main class method\n",
    "MW_AIR = molwt.AIR * unit.g / unit.mol          # and this\n",
    "\n",
    "# # TODO: make this a test"
   ]
  },
  {
   "cell_type": "code",
   "execution_count": 4,
   "metadata": {
    "collapsed": false,
    "deletable": true,
    "editable": true
   },
   "outputs": [],
   "source": [
    "class Species:\n",
    "    pass\n",
    "    \n",
    "    \n",
    "## TODO: move timestep to Scenario\n",
    "\n",
    "class GreenhouseGas(Species):\n",
    "    \n",
    "#    M_ATMOS = 5.1352e+18 * unit.kg\n",
    "#    MW_AIR  = 28.97 * unit.g / unit.mol\n",
    "    \n",
    "    def __init__(self, radiative_efficiency, reference_concentration, concentration_t0, molecular_weight, name, efficacy=1):\n",
    "        self.name = name\n",
    "        self.efficacy = efficacy\n",
    "        self.radiative_efficiency    = radiative_efficiency\n",
    "        self.reference_concentration = reference_concentration\n",
    "        self.concentration_t0        = concentration_t0\n",
    "        self.molecular_weight        = molecular_weight\n",
    "        self.kg_to_vmr               = MW_AIR/self.molecular_weight / M_ATM * 1.0 * unit.vmr        \n",
    "        #if name in library:   # pandas datatable of stats or a csv?\n",
    "            # load up all the stuff above\n",
    "            # self.lifetime = library[name].lifetime\n",
    "            # self.radiative_efficiency = library[name].radiative_efficiency and so on\n",
    "    \n",
    "    def set_emissions(self, anthropogenic, natural=0, timestep=1*unit.year, time_points=None):\n",
    "        self.anthropogenic_emissions = anthropogenic\n",
    "        self.natural_emissions = natural\n",
    "        self.emissions = anthropogenic + natural\n",
    "        self.timestep = timestep\n",
    "        if time_points is None:\n",
    "            if hasattr(self.emissions, '__len__'):\n",
    "                nt = len(self.emissions)\n",
    "                time_points = (np.arange(nt) + 0.5) * timestep\n",
    "# ERROR CHECKING: ensure sensible inputs\n",
    "        self.time_points = time_points\n",
    "#        return Emissions(anthropogenic, natural, emissions_times, timestep)\n",
    "    \n",
    "    def set_concentrations(self, concentrations, timestep=1*unit.year, time_bounds=None):\n",
    "        self.concentrations = concentrations\n",
    "        self.timestep = timestep\n",
    "        if time_bounds is None:\n",
    "            if hasattr(self.concentrations, '__len__'):\n",
    "                nt = len(self.concentrations)\n",
    "                time_bounds = (np.arange(nt) + 0.5) * timestep\n",
    "# ERROR CHECKING: ensure sensible inputs\n",
    "        self.time_bounds = time_bounds\n",
    "#        return Concentrations(concentrations)\n",
    "        \n",
    "    def set_lifetime(self, lifetime):\n",
    "        self.lifetime = lifetime\n",
    "        \n",
    "    def calculate_concentrations(self):\n",
    "        # for GHGs with no temperature feedback or inter-species dependence\n",
    "        # only makes sense when emissions are defined\n",
    "        #emissions = self.emissions + self.natural_emissions\n",
    "        if hasattr(self.emissions, '__len__'):\n",
    "            nt = len(self.emissions)   # ensures that either emissions or natural_emissions are array - \n",
    "                                  # still need to check it is 1D\n",
    "            emissions = self.emissions\n",
    "        elif np.isscalar(self.emissions) and hasattr(self.time_points, '__len__'):\n",
    "            nt = len(self.time_points)\n",
    "            emissions = self.emissions * np.ones(nt)\n",
    "        concentrations = np.ones(nt+1) * np.nan * unit.vmr\n",
    "        time_bounds = self.time_points - self.timestep/2\n",
    "        time_bounds = np.append(time_bounds, self.time_points[-1] + self.timestep/2)\n",
    "        \n",
    "        def _forward(c0, em, ts, lt, vm):   # put this in its own module and import\n",
    "            c1 = c0*np.exp(-ts/lt) + lt*em*vm * (1.-np.exp(-ts/lt))\n",
    "            return c1\n",
    "            \n",
    "        concentrations[0] = self.concentration_t0\n",
    "        \n",
    "        for t in range(nt):\n",
    "            concentrations[t+1] = _forward(concentrations[t], emissions[t], \n",
    "                                         self.timestep, self.lifetime, self.kg_to_vmr)\n",
    "\n",
    "        self.concentrations = concentrations\n",
    "        self.time_bounds = time_bounds\n",
    "#        return Concentrations(concentrations, time_bounds)\n",
    "\n",
    "    def calculate_forcing(self, scale=1):\n",
    "        # need checks to determine that scale is scalar or array with same length as concentations\n",
    "        self.effective_radiative_forcing = (self.concentrations - self.reference_concentration) * self.radiative_efficiency * scale\n",
    "        self.effective_radiative_forcing.ito(unit.watt / unit.m**2)\n",
    "#        return EffectiveRadiativeForcing(self.effective_radiative_forcing)"
   ]
  },
  {
   "cell_type": "code",
   "execution_count": 5,
   "metadata": {
    "collapsed": false,
    "deletable": true,
    "editable": true
   },
   "outputs": [],
   "source": [
    "def etminan(co2, ch4, n2o):\n",
    "    cbar = 0.5*(co2.reference_concentration + co2.concentrations)\n",
    "    mbar = 0.5*(ch4.reference_concentration + ch4.concentrations)\n",
    "    nbar = 0.5*(n2o.reference_concentration + n2o.concentrations)\n",
    "    \n",
    "    # units really come into their own here\n",
    "    co2.effective_radiative_forcing = (\n",
    "        (-2.4e-7/unit.ppm**2*(co2.concentrations - co2.reference_concentration)**2\n",
    "         + 7.2e-4/unit.ppm*abs(co2.concentrations-co2.reference_concentration) \n",
    "         - 2.1e-4/unit.ppb * nbar + 5.36) \n",
    "        * np.log(co2.concentrations/co2.reference_concentration)\n",
    "    ) * unit.watt / unit.m**2\n",
    "    \n",
    "    ch4.effective_radiative_forcing = (\n",
    "        (-1.3e-6/unit.ppb*mbar - 8.2e-6/unit.ppb*nbar + 0.043) \n",
    "        * (np.sqrt(ch4.concentrations/unit.ppb) - np.sqrt(ch4.reference_concentration/unit.ppb))\n",
    "    ) * unit.watt / unit.m**2\n",
    "    \n",
    "    n2o.effective_radiative_forcing = (\n",
    "        (-8.0e-6/unit.ppm*cbar + 4.2e-6/unit.ppb*nbar - 4.9e-6/unit.ppb*mbar + 0.117)\n",
    "        * (np.sqrt(n2o.concentrations/unit.ppb) - np.sqrt(n2o.reference_concentration/unit.ppb))\n",
    "    ) * unit.watt / unit.m**2\n",
    "#    return (\n",
    "#        EffectiveRadiativeForcing(co2.effective_radiative_forcing), \n",
    "#        EffectiveRadiativeForcing(ch4.effective_radiative_forcing),\n",
    "#        EffectiveRadiativeForcing(n2o.effective_radiative_forcing)\n",
    "#    )\n",
    "    \n",
    "    \n",
    "class CO2(GreenhouseGas):\n",
    "    def calculate_forcing(self, ch4, n2o):\n",
    "        etminan(self, ch4, n2o)\n",
    "\n",
    "\n",
    "class CH4(GreenhouseGas):\n",
    "    def calculate_forcing(self, co2, n2o):\n",
    "        etminan(co2, self, n2o)\n",
    "\n",
    "\n",
    "class N2O(GreenhouseGas):\n",
    "    def calculate_forcing(self, co2, ch4):\n",
    "        #self.effective_radiative_forcing = \n",
    "        etminan(co2, ch4, self)#[2]\n",
    "    \n",
    "    \n",
    "# class Emissions:\n",
    "#     def __init__(self, anthropogenic, natural, emissions_times, timestep):\n",
    "#         self.anthropogenic_emissions=anthropogenic\n",
    "#         self.natural_emissions=natural\n",
    "#         self.emissions=anthropogenic+natural\n",
    "#         self.emissions_times=emissions_times\n",
    "#         self.emissions_timestep=timestep\n",
    "        \n",
    "        \n",
    "# class Concentrations:\n",
    "#     def __init__(self, concentrations, time_bounds):\n",
    "#         self.concentrations = concentrations\n",
    "#         self.time_bounds = time_bounds\n",
    "    \n",
    "    \n",
    "# class EffectiveRadiativeForcing:\n",
    "#     def __init__(self, effective_radiative_forcing):\n",
    "#         self.effective_radiative_forcing = effective_radiative_forcing\n",
    "        \n",
    "        \n",
    "# class Temperature:\n",
    "#     def __init__(self, temperature):\n",
    "#         self.temperature = temperature"
   ]
  },
  {
   "cell_type": "code",
   "execution_count": 6,
   "metadata": {
    "collapsed": false,
    "deletable": true,
    "editable": true,
    "scrolled": false
   },
   "outputs": [
    {
     "name": "stderr",
     "output_type": "stream",
     "text": [
      "/nfs/see-fs-02_users/mencsm/.local/lib/python3.5/site-packages/pint/quantity.py:1377: UnitStrippedWarning: The unit of the quantity is stripped.\n",
      "  warnings.warn(\"The unit of the quantity is stripped.\", UnitStrippedWarning)\n"
     ]
    },
    {
     "data": {
      "text/plain": [
       "[<matplotlib.lines.Line2D at 0x7fec09eb69e8>]"
      ]
     },
     "execution_count": 6,
     "metadata": {},
     "output_type": "execute_result"
    },
    {
     "data": {
      "image/png": "[encoded data removed]",
      "text/plain": [
       "<matplotlib.figure.Figure at 0x7fec0ad35dd8>"
      ]
     },
     "metadata": {
      "needs_background": "light"
     },
     "output_type": "display_data"
    }
   ],
   "source": [
    "cfc12 = GreenhouseGas(radiative_efficiency=0.32 * unit.watt / unit.m**2 / unit.ppb,\n",
    "                   reference_concentration=0 * unit.ppt,\n",
    "                   concentration_t0=0 * unit.ppt,\n",
    "                   molecular_weight=120.91 * unit.g / unit.mol,\n",
    "                   name='CFC12')\n",
    "cfc12.set_emissions(np.ones(1000)*500 * unit.kt / unit.year,\n",
    "                  natural = 0.00 * unit.kt / unit.year)\n",
    "#cfc12.set_emissions([500]*1000 * unit.kt / unit.year,\n",
    "#                  natural = 0.00 * unit.kt / unit.year)\n",
    "#cfc12.set_emissions(500 * unit.kt / unit.year,\n",
    "#                  natural = 0.00 * unit.kt / unit.year)\n",
    "cfc12.set_lifetime(100 * unit.years)\n",
    "cfc12.calculate_concentrations()\n",
    "pl.plot(cfc12.time_bounds, cfc12.concentrations.to('ppt'))\n",
    "# concentrations always returns array of size nt+1"
   ]
  },
  {
   "cell_type": "code",
   "execution_count": 7,
   "metadata": {
    "collapsed": false,
    "deletable": true,
    "editable": true
   },
   "outputs": [],
   "source": [
    "n2o = N2O(\n",
    "    radiative_efficiency=3.00e-3 * unit.watt / unit.m**2 / unit.ppb,\n",
    "    reference_concentration=273 * unit.ppb,\n",
    "    concentration_t0 = 273 * unit.ppb,\n",
    "    molecular_weight = 44.01 * unit.g / unit.mol,\n",
    "    name='N2O'\n",
    ")\n",
    "n2o.set_concentrations(np.linspace(272,500,1001) * unit.ppb)"
   ]
  },
  {
   "cell_type": "code",
   "execution_count": 8,
   "metadata": {
    "collapsed": false,
    "deletable": true,
    "editable": true
   },
   "outputs": [],
   "source": [
    "ch4 = CH4(\n",
    "    radiative_efficiency=3.63e-4 * unit.watt / unit.m**2 / unit.ppb,\n",
    "    reference_concentration=791 * unit.ppb,\n",
    "    concentration_t0 = 791 * unit.ppb,\n",
    "    molecular_weight = 16.04 * unit.g / unit.mol,\n",
    "    name='CH4'  \n",
    ")\n",
    "ch4.set_concentrations(np.linspace(791,1800,1001) * unit.ppb)"
   ]
  },
  {
   "cell_type": "code",
   "execution_count": 9,
   "metadata": {
    "collapsed": false,
    "deletable": true,
    "editable": true
   },
   "outputs": [],
   "source": [
    "co2 = CO2(\n",
    "    radiative_efficiency=1.37e-5 * unit.watt / unit.m**2 / unit.ppb,\n",
    "    reference_concentration=278 * unit.ppm,\n",
    "    concentration_t0 = 278 * unit.ppm,\n",
    "    molecular_weight = 44.01 * unit.g / unit.mol,\n",
    "    name='CO2'\n",
    ")\n",
    "co2.set_concentrations(np.linspace(278,415,1001) * unit.ppm)"
   ]
  },
  {
   "cell_type": "code",
   "execution_count": 277,
   "metadata": {
    "collapsed": false,
    "deletable": true,
    "editable": true
   },
   "outputs": [],
   "source": [
    "# Scenario (attributes forcing, temperature, timestep)\n",
    "# - Species\n",
    "# - - GreenhouseGas (attributes emissions, conc, lifetime, GWP, GTP)\n",
    "# - - - CO2\n",
    "# - - - CH4\n",
    "# - - - N2O\n",
    "# - - - ODS (attributes EESC)\n",
    "# - - - - CFC11\n",
    "# - - - - CFC12\n",
    "# - - - - ...\n",
    "# - - - F-gas\n",
    "# - - - - HFC134a\n",
    "# - - - - ...\n",
    "# - - - Generic GHG? (or just allow user instances of GreenhouseGas)\n",
    "# - - Aerosol (attributes emissions)\n",
    "# - - Ozone\n",
    "# - ExternalForcing\n",
    "# - - Solar\n",
    "# - - Volcanic\n",
    "\n",
    "\n",
    "class Scenario:    # I think this should probably be the base class - build Species off this, and then GHG, Aerosol etc\n",
    "    \n",
    "    def __init__(self, *args, temperature_t0=0 * unit.K, timestep=1*unit.year):\n",
    "        self.species = {}\n",
    "        self.add_species(*args)\n",
    "        self.temperature_t0 = temperature_t0\n",
    "        self.timestep = timestep\n",
    "        #super - to grab timestep\n",
    "        \n",
    "    def add_species(self, *args):\n",
    "        for arg in args:\n",
    "            self.species[arg.name] = arg\n",
    "    \n",
    "    def calculate_forcing(self):\n",
    "        co2 = self.species['CO2']\n",
    "        ch4 = self.species['CH4']\n",
    "        n2o = self.species['N2O']\n",
    "        for species in self.species:\n",
    "            if type(self.species[species]) not in [CO2,CH4,N2O]:\n",
    "                self.species[species].calculate_forcing()\n",
    "        etminan(co2, ch4, n2o)\n",
    "        scen.effective_radiative_forcing = (sum([v.effective_radiative_forcing for v in self.species.values()]))\n",
    "        \n",
    "        \n",
    "    def calculate_temperature(self):\n",
    "        \"\"\"Calculate temperature from a given radiative forcing.\n",
    "        Inputs:\n",
    "            t0: Temperature in timestep t-1\n",
    "            q: The matrix contributions to slow and fast temperature change\n",
    "               calculated from ECS and TCR (2 element array)\n",
    "            d: The slow and fast thermal response time constants (2 element array)\n",
    "            f: radiative forcing (can be scalar or 1D array representing multiple\n",
    "           species)\n",
    "        Keywords:\n",
    "            e: efficacy factor (default 1); if f is an array, e should be an array\n",
    "               of the same length.\n",
    "        Outputs:\n",
    "            t1: slow and fast contributions to total temperature (2 element array)\n",
    "            in timestep t\n",
    "        \"\"\"\n",
    "        def _forward(t0, q, d, f, ts, e=1):\n",
    "            t1 = t0*np.exp(-ts/d) + q*(1.0-np.exp((-ts)/d))*np.sum(f*e)#*ts\n",
    "            return t1\n",
    "    \n",
    "        if hasattr(self.effective_radiative_forcing, '__len__'):\n",
    "            nt = len(self.effective_radiative_forcing)\n",
    "            effective_radiative_forcing = self.effective_radiative_forcing\n",
    "        elif np.isscalar(self.effective_radiative_forcing) and hasattr(self.time_bounds, '__len__'):\n",
    "            nt = len(self.time_bounds)\n",
    "            effective_radiative_forcing = self.effective_radiative_forcing * np.ones(nt)\n",
    "            \n",
    "        temperature = np.ones(nt) * np.nan * unit.K    \n",
    "        temperature[0] = self.temperature_t0\n",
    "\n",
    "        q = self._calculate_q()\n",
    "        nbox = len(q)\n",
    "        T_j = np.ones((nt, nbox)) * np.nan * unit.K\n",
    "        d=np.array([239, 4.1]) * unit.year\n",
    "        \n",
    "        T_j[0,:] = self.temperature_t0 # won't be true for restarts\n",
    "        \n",
    "        for t in range(nt-1):\n",
    "            T_j[t+1,:] = _forward(T_j[t,:], q, d, effective_radiative_forcing[t], self.timestep)\n",
    "\n",
    "        self.temperature = np.sum(T_j, axis=1)\n",
    "        \n",
    "    \n",
    "    def _calculate_q(self):\n",
    "        \n",
    "        # TODO: GIR multi-box version\n",
    "        # for now this follows FaIR 1.5\n",
    "        \n",
    "        \"\"\"If TCR and ECS are supplied, calculate the q model coefficients.\n",
    "        See Eqs. (4) and (5) of Millar et al ACP (2017).\n",
    "\n",
    "        Inputs:\n",
    "            tcrecs  : 2-element array of transient climate response (TCR) and\n",
    "                      equilibrium climate sensitivity (ECS).\n",
    "            d       : The slow and fast thermal response time constants\n",
    "            f2x     : Effective radiative forcing from a doubling of CO2\n",
    "            tcr_dbl : time to a doubling of CO2 under 1% per year CO2 increase, yr\n",
    "            nt      : number of timesteps\n",
    "\n",
    "        Outputs:\n",
    "            q       : coefficients of slow and fast temperature change in each\n",
    "                      timestep ((nt, 2) array).\n",
    "        \"\"\"\n",
    "\n",
    "        f2x = 4.00 * unit.W / unit.m**2\n",
    "        tcr_dbl = 69.6 * unit.year\n",
    "        d=[239, 4.1] * unit.year\n",
    "        tcr = 1.75 * unit.K\n",
    "        ecs = 3.00 * unit.K\n",
    "        \n",
    "        mat = np.ones(2) * np.nan * unit.K       \n",
    "        k = 1.0 - (d/tcr_dbl)*(1.0 - np.exp(-tcr_dbl/d))\n",
    "        mat[0] = tcr-ecs*k[1]\n",
    "        mat[1] = ecs*k[0]-tcr\n",
    "        \n",
    "        q  = (1.0 / f2x) * (1.0/(k[0]-k[1])) * mat\n",
    "        return q"
   ]
  },
  {
   "cell_type": "code",
   "execution_count": 278,
   "metadata": {
    "collapsed": false,
    "deletable": true,
    "editable": true
   },
   "outputs": [],
   "source": [
    "# years = np.arange(1001)\n",
    "# # this I think is currently wrong but has not been followed through fully from fair 1.0 - just illustrative\n",
    "# def calculate_temperature(radiative_forcing,\n",
    "#                           efficacy=1,\n",
    "#                           d=np.array([239, 4.1]) * unit.year,\n",
    "#                           q=np.array([0.33,0.41]) * unit.K * unit.m**2 / unit.watt,\n",
    "#                           timestep = 1 * unit.year\n",
    "#                          ):\n",
    "#     # radiative forcing needs to be smartly handled here\n",
    "#     # radiative_forcing = sum_over_all_species_forcing\n",
    "#     nbox = len(q)\n",
    "#     nt = len(radiative_forcing)\n",
    "#     T_j = np.ones((nt, nbox)) * np.nan * unit.K\n",
    "#     T   = np.ones((nt)) * np.nan * unit.K\n",
    "    \n",
    "#     # Update the thermal response boxes\n",
    "#     T_j[0,:] = (q/d)*radiative_forcing[0] * efficacy * timestep\n",
    "\n",
    "#     # Sum the thermal response boxes to get the total temperature anomaly\n",
    "#     T[0]=np.sum(T_j[0,:],axis=-1)\n",
    "    \n",
    "#     for t in range(1,nt):\n",
    "#         # Update the thermal response boxes\n",
    "#         T_j[t,:] = T_j[t-1,:]*(1 - np.exp(-timestep/d)) + q * (1-np.exp((-timestep)/d)) * radiative_forcing[t] * efficacy\n",
    "#         # Sum the thermal response boxes to get the total temperature\n",
    "#         T[t]=np.sum(T_j[t,:],axis=-1)\n",
    "#     return T\n",
    "        \n",
    "# T = calculate_temperature(scen.effective_radiative_forcing)\n",
    "# pl.plot(years, T)\n",
    "# pl.xlabel('year')\n",
    "# pl.ylabel('temperature')"
   ]
  },
  {
   "cell_type": "code",
   "execution_count": 279,
   "metadata": {
    "collapsed": false,
    "deletable": true,
    "editable": true
   },
   "outputs": [
    {
     "data": {
      "text/plain": [
       "{'CFC12': <__main__.GreenhouseGas at 0x7fec0ad325f8>,\n",
       " 'CH4': <__main__.CH4 at 0x7fec06b7ec88>,\n",
       " 'CO2': <__main__.CO2 at 0x7fec0acf91d0>,\n",
       " 'N2O': <__main__.N2O at 0x7fec0ad329b0>}"
      ]
     },
     "execution_count": 279,
     "metadata": {},
     "output_type": "execute_result"
    }
   ],
   "source": [
    "scen=Scenario(co2, ch4, n2o)\n",
    "scen.add_species(cfc12)\n",
    "scen.species"
   ]
  },
  {
   "cell_type": "code",
   "execution_count": 280,
   "metadata": {
    "collapsed": false,
    "deletable": true,
    "editable": true
   },
   "outputs": [],
   "source": [
    "scen.calculate_forcing()\n",
    "#print(scen.effective_radiative_forcing)"
   ]
  },
  {
   "cell_type": "code",
   "execution_count": 281,
   "metadata": {
    "collapsed": false,
    "deletable": true,
    "editable": true
   },
   "outputs": [
    {
     "data": {
      "text/plain": [
       "[<matplotlib.lines.Line2D at 0x7fec02750048>]"
      ]
     },
     "execution_count": 281,
     "metadata": {},
     "output_type": "execute_result"
    },
    {
     "data": {
      "image/png": "[encoded data removed]",
      "text/plain": [
       "<matplotlib.figure.Figure at 0x7fec02802fd0>"
      ]
     },
     "metadata": {
      "needs_background": "light"
     },
     "output_type": "display_data"
    }
   ],
   "source": [
    "pl.plot(scen.effective_radiative_forcing)"
   ]
  },
  {
   "cell_type": "code",
   "execution_count": 282,
   "metadata": {
    "collapsed": false,
    "deletable": true,
    "editable": true
   },
   "outputs": [
    {
     "data": {
      "text/plain": [
       "[<matplotlib.lines.Line2D at 0x7fec0273e160>]"
      ]
     },
     "execution_count": 282,
     "metadata": {},
     "output_type": "execute_result"
    },
    {
     "data": {
      "image/png": "[encoded data removed]",
      "text/plain": [
       "<matplotlib.figure.Figure at 0x7fec027722e8>"
      ]
     },
     "metadata": {
      "needs_background": "light"
     },
     "output_type": "display_data"
    }
   ],
   "source": [
    "pl.plot(cfc12.effective_radiative_forcing)"
   ]
  },
  {
   "cell_type": "code",
   "execution_count": 283,
   "metadata": {
    "collapsed": false,
    "deletable": true,
    "editable": true
   },
   "outputs": [
    {
     "data": {
      "text/plain": [
       "[<matplotlib.lines.Line2D at 0x7fec026a0400>]"
      ]
     },
     "execution_count": 283,
     "metadata": {},
     "output_type": "execute_result"
    },
    {
     "data": {
      "image/png": "[encoded data removed]",
      "text/plain": [
       "<matplotlib.figure.Figure at 0x7fec026dc0b8>"
      ]
     },
     "metadata": {
      "needs_background": "light"
     },
     "output_type": "display_data"
    }
   ],
   "source": [
    "pl.plot(n2o.effective_radiative_forcing)"
   ]
  },
  {
   "cell_type": "code",
   "execution_count": 284,
   "metadata": {
    "collapsed": false,
    "deletable": true,
    "editable": true
   },
   "outputs": [
    {
     "data": {
      "text/plain": [
       "[<matplotlib.lines.Line2D at 0x7fec026851d0>]"
      ]
     },
     "execution_count": 284,
     "metadata": {},
     "output_type": "execute_result"
    },
    {
     "data": {
      "image/png": "[encoded data removed]",
      "text/plain": [
       "<matplotlib.figure.Figure at 0x7fec026f8f28>"
      ]
     },
     "metadata": {
      "needs_background": "light"
     },
     "output_type": "display_data"
    }
   ],
   "source": [
    "pl.plot(co2.effective_radiative_forcing)"
   ]
  },
  {
   "cell_type": "code",
   "execution_count": 285,
   "metadata": {
    "collapsed": false,
    "deletable": true,
    "editable": true
   },
   "outputs": [
    {
     "data": {
      "text/plain": [
       "[<matplotlib.lines.Line2D at 0x7fec025e6390>]"
      ]
     },
     "execution_count": 285,
     "metadata": {},
     "output_type": "execute_result"
    },
    {
     "data": {
      "image/png": "[encoded data removed]",
      "text/plain": [
       "<matplotlib.figure.Figure at 0x7fec0265fc18>"
      ]
     },
     "metadata": {
      "needs_background": "light"
     },
     "output_type": "display_data"
    }
   ],
   "source": [
    "pl.plot(ch4.effective_radiative_forcing)"
   ]
  },
  {
   "cell_type": "code",
   "execution_count": 288,
   "metadata": {
    "collapsed": false,
    "deletable": true,
    "editable": true
   },
   "outputs": [
    {
     "data": {
      "text/plain": [
       "[<matplotlib.lines.Line2D at 0x7fec025614a8>]"
      ]
     },
     "execution_count": 288,
     "metadata": {},
     "output_type": "execute_result"
    },
    {
     "data": {
      "image/png": "[encoded data removed]",
      "text/plain": [
       "<matplotlib.figure.Figure at 0x7fec02614860>"
      ]
     },
     "metadata": {
      "needs_background": "light"
     },
     "output_type": "display_data"
    }
   ],
   "source": [
    "scen.calculate_temperature()\n",
    "pl.plot(scen.temperature)"
   ]
  },
  {
   "cell_type": "code",
   "execution_count": 182,
   "metadata": {
    "collapsed": false,
    "deletable": true,
    "editable": true
   },
   "outputs": [
    {
     "data": {
      "text/plain": [
       "[<matplotlib.lines.Line2D at 0x7fec045f2198>]"
      ]
     },
     "execution_count": 182,
     "metadata": {},
     "output_type": "execute_result"
    },
    {
     "data": {
      "image/png": "[encoded data removed]",
      "text/plain": [
       "<matplotlib.figure.Figure at 0x7fec046f12b0>"
      ]
     },
     "metadata": {
      "needs_background": "light"
     },
     "output_type": "display_data"
    }
   ],
   "source": [
    "n2o.calculate_forcing(co2, ch4)\n",
    "ch4.calculate_forcing(co2, n2o)\n",
    "co2.calculate_forcing(ch4, n2o)\n",
    "pl.plot(n2o.effective_radiative_forcing)\n",
    "pl.plot(ch4.effective_radiative_forcing)\n",
    "pl.plot(co2.effective_radiative_forcing)\n",
    "pl.plot(cfc12.effective_radiative_forcing)\n",
    "#cfc12.effective_radiative_forcing"
   ]
  },
  {
   "cell_type": "code",
   "execution_count": null,
   "metadata": {
    "collapsed": false,
    "deletable": true,
    "editable": true
   },
   "outputs": [],
   "source": [
    "co2.concentrations"
   ]
  },
  {
   "cell_type": "code",
   "execution_count": null,
   "metadata": {
    "collapsed": false
   },
   "outputs": [],
   "source": [
    "ch4.set_emissions(np.ones(1000)*200 * unit.Mt / unit.year,\n",
    "                  natural = 190.00 * unit.Mt / unit.year)\n",
    "#cfc12.set_emissions([500]*1000 * unit.kt / unit.year,\n",
    "#                  natural = 0.00 * unit.kt / unit.year)\n",
    "#cfc12.set_emissions(500 * unit.kt / unit.year,\n",
    "#                  natural = 0.00 * unit.kt / unit.year)\n",
    "ch4.set_lifetime(9.3 * unit.years)\n",
    "ch4.calculate_concentrations()\n",
    "pl.plot(ch4.time_bounds, ch4.concentrations.to('ppb'))"
   ]
  },
  {
   "cell_type": "code",
   "execution_count": null,
   "metadata": {
    "collapsed": false
   },
   "outputs": [],
   "source": [
    "unit.K"
   ]
  },
  {
   "cell_type": "code",
   "execution_count": null,
   "metadata": {
    "collapsed": true
   },
   "outputs": [],
   "source": []
  }
 ],
 "metadata": {
  "kernelspec": {
   "display_name": "Python 3",
   "language": "python",
   "name": "python3"
  },
  "language_info": {
   "codemirror_mode": {
    "name": "ipython",
    "version": 3
   },
   "file_extension": ".py",
   "mimetype": "text/x-python",
   "name": "python",
   "nbconvert_exporter": "python",
   "pygments_lexer": "ipython3",
   "version": "3.5.2"
  }
 },
 "nbformat": 4,
 "nbformat_minor": 2
}
