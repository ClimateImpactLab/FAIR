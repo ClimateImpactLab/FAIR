{
 "cells": [
  {
   "cell_type": "code",
   "execution_count": 2,
   "metadata": {
    "collapsed": false,
    "deletable": true,
    "editable": true
   },
   "outputs": [],
   "source": [
    "import pint\n",
    "class ScmUnitRegistry(pint.UnitRegistry):  # type: ignore\n",
    "    \"\"\"\n",
    "    Unit registry class for OpenSCM. Provides some convenience methods to add standard\n",
    "    unit and contexts.\n",
    "    \"\"\"\n",
    "\n",
    "    _contexts_loaded = False\n",
    "\n",
    "    def add_standards(self):\n",
    "        \"\"\"\n",
    "        Add standard units.\n",
    "        Has to be done separately because of pint's weird initializing.\n",
    "        \"\"\"\n",
    "#        self._add_gases(_standard_gases)\n",
    "\n",
    "        self.define(\"a = 1 * year = annum = yr\")\n",
    "        self.define(\"h = hour\")\n",
    "        self.define(\"d = day\")\n",
    "#        self.define(\"degreeC = degC\")\n",
    "#        self.define(\"degreeF = degF\")\n",
    "        self.define(\"kt = 1000 * t\")  # since kt is used for \"knot\" in the defaults\n",
    "    \n",
    "        self.define('volume_mixing_ratio = [vmr] = vmr')\n",
    "        self.define('parts_per_million = 1e-6 * volume_mixing_ratio = ppm')\n",
    "        self.define('parts_per_billion = 1e-9 * volume_mixing_ratio = ppb')\n",
    "        self.define('parts_per_trillion = 1e-12 * volume_mixing_ratio = ppt')"
   ]
  },
  {
   "cell_type": "code",
   "execution_count": 3,
   "metadata": {
    "collapsed": true,
    "deletable": true,
    "editable": true
   },
   "outputs": [],
   "source": [
    "# from openscm.units import _unit_registry as unit\n",
    "# #unit = ScmUnitRegistry()\n",
    "# kt = unit(\"kt\")\n",
    "# unit('kt')"
   ]
  },
  {
   "cell_type": "code",
   "execution_count": 4,
   "metadata": {
    "collapsed": false,
    "deletable": true,
    "editable": true
   },
   "outputs": [
    {
     "name": "stdout",
     "output_type": "stream",
     "text": [
      "10.0 kt / year\n",
      "5.1352e+18 kilogram\n",
      "16.04 gram / mole 28.97 gram / mole\n",
      "0.0035171166180203023 parts_per_billion\n"
     ]
    }
   ],
   "source": [
    "import numpy as np\n",
    "from fair.constants.general import M_ATMOS\n",
    "from fair.constants.molwt import AIR as M_AIR   # this will be moved\n",
    "from fair.constants import molwt\n",
    "import pint\n",
    "\n",
    "unit = pint.UnitRegistry()\n",
    "#unit.add_standards()\n",
    "unit.define('volume_mixing_ratio = [vmr] = vmr')\n",
    "unit.define('percent = 0.01 * volume_mixing_ratio = pc')\n",
    "unit.define('parts_per_million = 1e-6 * volume_mixing_ratio = ppm')\n",
    "unit.define('parts_per_billion = 1e-9 * volume_mixing_ratio = ppb')\n",
    "unit.define('parts_per_trillion = 1e-12 * volume_mixing_ratio = ppt')\n",
    "unit.define('kt = 1000 * t')\n",
    "unit.define('kilometric_ton = kt')\n",
    "emissions = 10 * unit.kt / unit.year\n",
    "M_ATM = M_ATMOS * unit.kg\n",
    "m_ch4 = molwt.CH4 * unit.g / unit.mol\n",
    "M_AIR = molwt.AIR * unit.g / unit.mol\n",
    "timestep = 1 * unit.year\n",
    "\n",
    "print(emissions)\n",
    "print(M_ATM)\n",
    "print(m_ch4, M_AIR)\n",
    "\n",
    "# this is per year\n",
    "print((emissions/M_ATM * M_AIR/m_ch4 * unit.year * unit.vmr).to_base_units().to('ppb'))"
   ]
  },
  {
   "cell_type": "code",
   "execution_count": 65,
   "metadata": {
    "collapsed": false,
    "deletable": true,
    "editable": true
   },
   "outputs": [],
   "source": [
    "library = ['CO2', 'CH4', 'N2O']\n",
    "\n",
    "class Species:\n",
    " \n",
    "    def __init__(self, radiative_efficiency, reference_concentration, concentration_t0, molecular_weight, name=None, efficacy=1):\n",
    "        self.name = name\n",
    "        self.efficacy = efficacy\n",
    "        self.radiative_efficiency    = radiative_efficiency\n",
    "        self.reference_concentration = reference_concentration\n",
    "        self.concentration_t0        = concentration_t0\n",
    "        self.molecular_weight        = molecular_weight\n",
    "        self.kg_to_vmr               = M_AIR/self.molecular_weight / M_ATM * 1.0 * unit.vmr        \n",
    "        #if name in library:   # pandas datatable of stats or a csv?\n",
    "            # load up all the stuff above\n",
    "            # self.lifetime = library[name].lifetime\n",
    "            # self.radiative_efficiency = library[name].radiative_efficiency and so on\n",
    "    \n",
    "    def set_emissions(self, anthropogenic, natural=0, timestep=unit.year):\n",
    "        self.emissions = anthropogenic\n",
    "        self.natural_emissions = natural\n",
    "        self.timestep = timestep\n",
    "        return Emissions(anthropogenic, natural, timestep)\n",
    "    \n",
    "    def set_concentrations(self, concentrations):\n",
    "        self.concentrations = concentrations\n",
    "        return Concentrations(concentrations)\n",
    "        \n",
    "    def set_lifetime(self, lifetime):\n",
    "        self.lifetime = lifetime\n",
    "        \n",
    "    def calculate_concentrations(self):\n",
    "        # for GHGs with no temperature feedback or inter-species dependence\n",
    "        emissions = self.emissions + self.natural_emissions\n",
    "        nt = len(emissions)   # ensures that either emissions or natural_emissions are array - still need to check it is 1D\n",
    "        concentrations = np.ones(nt+1) * np.nan * unit.vmr\n",
    "\n",
    "        def _forward(c0, em, ts, lt, vm):   # put this in its own module and import\n",
    "            c1 = c0*np.exp(-ts/lt) + lt*em*vm * (1.-np.exp(-ts/lt))\n",
    "            return c1\n",
    "            \n",
    "        concentrations[0] = self.concentration_t0\n",
    "        \n",
    "        for t in range(nt):\n",
    "            concentrations[t+1] = _forward(concentrations[t], emissions[t], \n",
    "                                         timestep, self.lifetime, self.kg_to_vmr)\n",
    "\n",
    "        self.concentrations = concentrations\n",
    "        return Concentrations(concentrations)\n",
    "\n",
    "    def calculate_forcing(self, scale=1):\n",
    "        # need checks to determine that scale is scalar or array with same length as \n",
    "        if self.name in ['carbon dioxide','methane','nitrous oxide']:   # see how we used the init param here\n",
    "            print('Etminan routine TBC')\n",
    "            self.effective_radiative_forcing = -9999\n",
    "        else:\n",
    "            self.effective_radiative_forcing = (self.concentrations - self.reference_concentration) * self.radiative_efficiency * scale\n",
    "            self.effective_radiative_forcing.ito(unit.watt / unit.m**2)\n",
    "        return EffectiveRadiativeForcing(self.effective_radiative_forcing)\n",
    "\n",
    "    \n",
    "class GreenhouseGas(Species):\n",
    "#    def __init__(self):\n",
    "    pass\n",
    "#        self.name                    = Species.name\n",
    "    \n",
    "        \n",
    "class Emissions:\n",
    "    def __init__(self, anthropogenic, natural, timestep):\n",
    "        self.emissions=anthropogenic\n",
    "        self.natural_emissions=natural\n",
    "        self.timestep=timestep\n",
    "        \n",
    "        \n",
    "class Concentrations:\n",
    "    def __init__(self, concentrations):\n",
    "        self.concentrations = concentrations\n",
    "    \n",
    "    \n",
    "class EffectiveRadiativeForcing:\n",
    "    def __init__(self, effective_radiative_forcing):\n",
    "        self.effective_radiative_forcing = effective_radiative_forcing\n",
    "        \n",
    "        \n",
    "class Temperature:\n",
    "    def __init__(self):\n",
    "        pass"
   ]
  },
  {
   "cell_type": "code",
   "execution_count": 66,
   "metadata": {
    "collapsed": false,
    "deletable": true,
    "editable": true
   },
   "outputs": [
    {
     "name": "stderr",
     "output_type": "stream",
     "text": [
      "/nfs/see-fs-02_users/mencsm/.local/lib/python3.5/site-packages/pint/quantity.py:1377: UnitStrippedWarning: The unit of the quantity is stripped.\n",
      "  warnings.warn(\"The unit of the quantity is stripped.\", UnitStrippedWarning)\n"
     ]
    },
    {
     "data": {
      "text/plain": [
       "<__main__.Concentrations at 0x7f166badcf60>"
      ]
     },
     "execution_count": 66,
     "metadata": {},
     "output_type": "execute_result"
    }
   ],
   "source": [
    "CFC12 = GreenhouseGas(radiative_efficiency=0.32 * unit.watt / unit.m**2 / unit.ppb,\n",
    "                   reference_concentration=0 * unit.ppt,\n",
    "                   concentration_t0=0 * unit.ppt,\n",
    "                   molecular_weight=120.91 * unit.g / unit.mol)\n",
    "CFC12.set_emissions(np.ones(1000)*500 * unit.kt / unit.year,\n",
    "                  natural = 0.00 * unit.kt / unit.year)\n",
    "CFC12.set_lifetime(100 * unit.years)\n",
    "CFC12.calculate_concentrations()"
   ]
  },
  {
   "cell_type": "code",
   "execution_count": 67,
   "metadata": {
    "collapsed": false,
    "deletable": true,
    "editable": true
   },
   "outputs": [
    {
     "data": {
      "text/plain": [
       "<__main__.Concentrations at 0x7f166bb38c88>"
      ]
     },
     "execution_count": 67,
     "metadata": {},
     "output_type": "execute_result"
    }
   ],
   "source": [
    "N2O = GreenhouseGas(\n",
    "    radiative_efficiency=0.32 * unit.watt / unit.m**2 / unit.ppb,\n",
    "    reference_concentration=273 * unit.ppb,\n",
    "    concentration_t0 = 273 * unit.ppb,\n",
    "    molecular_weight = 44.01 * unit.g / unit.mol,\n",
    "    name='nitrous oxide'\n",
    ")\n",
    "N2O.set_concentrations(np.linspace(272,500,801) * unit.ppb)"
   ]
  },
  {
   "cell_type": "code",
   "execution_count": 68,
   "metadata": {
    "collapsed": false
   },
   "outputs": [
    {
     "data": {
      "image/png": "[encoded data removed]",
      "text/plain": [
       "<matplotlib.figure.Figure at 0x7f166bb17390>"
      ]
     },
     "metadata": {
      "needs_background": "light"
     },
     "output_type": "display_data"
    }
   ],
   "source": [
    "years = np.arange(801) * unit.year\n",
    "pl.plot(years, N2O.concentrations.to('ppb'))\n",
    "pl.xlabel('year')\n",
    "pl.ylabel('N2O concentration (ppb)');"
   ]
  },
  {
   "cell_type": "code",
   "execution_count": 69,
   "metadata": {
    "collapsed": false
   },
   "outputs": [
    {
     "name": "stdout",
     "output_type": "stream",
     "text": [
      "Etminan routine TBC\n"
     ]
    },
    {
     "data": {
      "text/plain": [
       "<__main__.EffectiveRadiativeForcing at 0x7f166bb37128>"
      ]
     },
     "execution_count": 69,
     "metadata": {},
     "output_type": "execute_result"
    }
   ],
   "source": [
    "N2O.calculate_forcing()"
   ]
  },
  {
   "cell_type": "code",
   "execution_count": 70,
   "metadata": {
    "collapsed": false,
    "deletable": true,
    "editable": true
   },
   "outputs": [
    {
     "data": {
      "text/plain": [
       "True"
      ]
     },
     "execution_count": 70,
     "metadata": {},
     "output_type": "execute_result"
    }
   ],
   "source": [
    "kiloton = 1*unit.kt\n",
    "kiloton.check('[mass]')"
   ]
  },
  {
   "cell_type": "code",
   "execution_count": 71,
   "metadata": {
    "collapsed": false,
    "deletable": true,
    "editable": true
   },
   "outputs": [
    {
     "data": {
      "text/html": [
       "megametric_ton"
      ],
      "text/latex": [
       "$\\mathrm{megametric_ton}$"
      ],
      "text/plain": [
       "<Unit('megametric_ton')>"
      ]
     },
     "execution_count": 71,
     "metadata": {},
     "output_type": "execute_result"
    }
   ],
   "source": [
    "unit.Mt"
   ]
  },
  {
   "cell_type": "code",
   "execution_count": 72,
   "metadata": {
    "collapsed": false,
    "deletable": true,
    "editable": true
   },
   "outputs": [
    {
     "data": {
      "image/png": "[encoded data removed]",
      "text/plain": [
       "<matplotlib.figure.Figure at 0x7f166ba94f98>"
      ]
     },
     "metadata": {
      "needs_background": "light"
     },
     "output_type": "display_data"
    }
   ],
   "source": [
    "%matplotlib inline\n",
    "import matplotlib.pyplot as pl\n",
    "years = np.arange(1001) * unit.year\n",
    "pl.plot(years, CFC12.concentrations.to('ppt'))\n",
    "pl.xlabel('year')\n",
    "pl.ylabel('CFC12 concentration (ppt)');"
   ]
  },
  {
   "cell_type": "code",
   "execution_count": 52,
   "metadata": {
    "collapsed": false,
    "deletable": true,
    "editable": true
   },
   "outputs": [
    {
     "data": {
      "text/plain": [
       "<__main__.EffectiveRadiativeForcing at 0x7f166bc93518>"
      ]
     },
     "execution_count": 52,
     "metadata": {},
     "output_type": "execute_result"
    }
   ],
   "source": [
    "CFC12.calculate_forcing()"
   ]
  },
  {
   "cell_type": "code",
   "execution_count": 8,
   "metadata": {
    "collapsed": false,
    "deletable": true,
    "editable": true
   },
   "outputs": [
    {
     "data": {
      "image/png": "[encoded data removed]",
      "text/plain": [
       "<Figure size 432x288 with 1 Axes>"
      ]
     },
     "metadata": {
      "needs_background": "light"
     },
     "output_type": "display_data"
    }
   ],
   "source": [
    "pl.plot(years, CFC12.radiative_forcing.to('W/m**2'))\n",
    "pl.xlabel('year')\n",
    "pl.ylabel('Radiative forcing');"
   ]
  },
  {
   "cell_type": "code",
   "execution_count": 9,
   "metadata": {
    "collapsed": false,
    "deletable": true,
    "editable": true
   },
   "outputs": [
    {
     "data": {
      "text/plain": [
       "Text(0, 0.5, 'temperature')"
      ]
     },
     "execution_count": 9,
     "metadata": {},
     "output_type": "execute_result"
    },
    {
     "data": {
      "image/png": "[encoded data removed]",
      "text/plain": [
       "<Figure size 432x288 with 1 Axes>"
      ]
     },
     "metadata": {
      "needs_background": "light"
     },
     "output_type": "display_data"
    }
   ],
   "source": [
    "# this I think is currently wrong but has not been followed through fully from fair 1.0 - just illustrative\n",
    "def calculate_temperature(radiative_forcing,\n",
    "                          efficacy=1,\n",
    "                          d=np.array([239, 4.1]) * unit.year,\n",
    "                          q=np.array([0.33,0.41]) * unit.K * unit.m**2 / unit.watt,\n",
    "                          timestep = 1 * unit.year\n",
    "                         ):\n",
    "    # radiative forcing needs to be smartly handled here\n",
    "    # radiative_forcing = sum_over_all_species_forcing\n",
    "    nbox = len(q)\n",
    "    nt = len(radiative_forcing)\n",
    "    T_j = np.ones((nt, nbox)) * np.nan * unit.K\n",
    "    T   = np.ones((nt)) * np.nan * unit.K\n",
    "    \n",
    "    # Update the thermal response boxes\n",
    "    T_j[0,:] = (q/d)*radiative_forcing[0] * efficacy * timestep\n",
    "\n",
    "    # Sum the thermal response boxes to get the total temperature anomaly\n",
    "    T[0]=np.sum(T_j[0,:],axis=-1)\n",
    "    \n",
    "    for t in range(1,nt):\n",
    "        # Update the thermal response boxes\n",
    "        T_j[t,:] = T_j[t-1,:]*(1 - np.exp(-timestep/d)) + q * (1-np.exp((-timestep)/d)) * radiative_forcing[t] * efficacy\n",
    "        # Sum the thermal response boxes to get the total temperature\n",
    "        T[t]=np.sum(T_j[t,:],axis=-1)\n",
    "    return T\n",
    "        \n",
    "T = calculate_temperature(CFC12.radiative_forcing)\n",
    "pl.plot(years, T)\n",
    "pl.xlabel('year')\n",
    "pl.ylabel('temperature')"
   ]
  },
  {
   "cell_type": "code",
   "execution_count": null,
   "metadata": {
    "collapsed": true,
    "deletable": true,
    "editable": true
   },
   "outputs": [],
   "source": []
  },
  {
   "cell_type": "code",
   "execution_count": 25,
   "metadata": {
    "collapsed": false,
    "deletable": true,
    "editable": true
   },
   "outputs": [
    {
     "ename": "AttributeError",
     "evalue": "knot",
     "output_type": "error",
     "traceback": [
      "\u001b[1;31m---------------------------------------------------------------------------\u001b[0m",
      "\u001b[1;31mAttributeError\u001b[0m                            Traceback (most recent call last)",
      "\u001b[1;32m<ipython-input-25-df936fdb2da0>\u001b[0m in \u001b[0;36m<module>\u001b[1;34m\u001b[0m\n\u001b[0;32m      1\u001b[0m \u001b[1;32mimport\u001b[0m \u001b[0mpint\u001b[0m\u001b[1;33m\u001b[0m\u001b[1;33m\u001b[0m\u001b[0m\n\u001b[0;32m      2\u001b[0m \u001b[0mureg\u001b[0m \u001b[1;33m=\u001b[0m \u001b[0mpint\u001b[0m\u001b[1;33m.\u001b[0m\u001b[0mUnitRegistry\u001b[0m\u001b[1;33m(\u001b[0m\u001b[1;33m)\u001b[0m\u001b[1;33m\u001b[0m\u001b[1;33m\u001b[0m\u001b[0m\n\u001b[1;32m----> 3\u001b[1;33m \u001b[1;32mdel\u001b[0m \u001b[0mureg\u001b[0m\u001b[1;33m.\u001b[0m\u001b[0mknot\u001b[0m\u001b[1;33m\u001b[0m\u001b[1;33m\u001b[0m\u001b[0m\n\u001b[0m",
      "\u001b[1;31mAttributeError\u001b[0m: knot"
     ]
    }
   ],
   "source": [
    "import pint\n",
    "ureg = pint.UnitRegistry()\n",
    "del ureg.knot"
   ]
  },
  {
   "cell_type": "code",
   "execution_count": 26,
   "metadata": {
    "collapsed": false,
    "deletable": true,
    "editable": true
   },
   "outputs": [
    {
     "data": {
      "text/plain": [
       "'1.4+3.g52e1df7.dirty'"
      ]
     },
     "execution_count": 26,
     "metadata": {},
     "output_type": "execute_result"
    }
   ],
   "source": [
    "fair.__version__"
   ]
  },
  {
   "cell_type": "code",
   "execution_count": 25,
   "metadata": {
    "collapsed": true,
    "deletable": true,
    "editable": true
   },
   "outputs": [],
   "source": [
    "import fair"
   ]
  },
  {
   "cell_type": "code",
   "execution_count": 22,
   "metadata": {
    "collapsed": false,
    "deletable": true,
    "editable": true
   },
   "outputs": [
    {
     "data": {
      "text/html": [
       "\\[\\begin{pmatrix}272.0 & 272.285 & 272.57 & 272.855 & 273.14 & 273.425 & 273.71 & 273.995 & 274.28 & 274.565 & 274.85 & 275.135 & 275.42 & 275.705 & 275.99 & 276.275 & 276.56 & 276.845 & 277.13 & 277.415 & 277.7 & 277.985 & 278.27 & 278.555 & 278.84 & 279.125 & 279.41 & 279.695 & 279.98 & 280.265 & 280.55 & 280.835 & 281.12 & 281.405 & 281.69 & 281.975 & 282.26 & 282.545 & 282.83 & 283.115 & 283.4 & 283.685 & 283.97 & 284.255 & 284.54 & 284.825 & 285.11 & 285.395 & 285.68 & 285.965 & 286.25 & 286.535 & 286.82 & 287.105 & 287.39 & 287.675 & 287.96 & 288.245 & 288.53 & 288.815 & 289.1 & 289.385 & 289.67 & 289.955 & 290.24 & 290.525 & 290.81 & 291.095 & 291.38 & 291.665 & 291.95 & 292.235 & 292.52 & 292.805 & 293.09 & 293.375 & 293.65999999999997 & 293.945 & 294.23 & 294.515 & 294.8 & 295.085 & 295.37 & 295.655 & 295.94 & 296.225 & 296.51 & 296.795 & 297.08 & 297.365 & 297.65 & 297.935 & 298.22 & 298.505 & 298.79 & 299.075 & 299.36 & 299.645 & 299.93 & 300.215 & 300.5 & 300.78499999999997 & 301.07 & 301.355 & 301.64 & 301.925 & 302.21 & 302.495 & 302.78 & 303.065 & 303.35 & 303.635 & 303.92 & 304.205 & 304.49 & 304.775 & 305.06 & 305.345 & 305.63 & 305.915 & 306.2 & 306.485 & 306.77 & 307.055 & 307.34 & 307.625 & 307.90999999999997 & 308.195 & 308.48 & 308.765 & 309.05 & 309.335 & 309.62 & 309.905 & 310.19 & 310.475 & 310.76 & 311.045 & 311.33 & 311.615 & 311.9 & 312.185 & 312.47 & 312.755 & 313.04 & 313.325 & 313.61 & 313.895 & 314.18 & 314.465 & 314.75 & 315.03499999999997 & 315.32 & 315.605 & 315.89 & 316.175 & 316.46 & 316.745 & 317.03 & 317.315 & 317.6 & 317.885 & 318.17 & 318.455 & 318.74 & 319.025 & 319.31 & 319.595 & 319.88 & 320.165 & 320.45 & 320.735 & 321.02 & 321.305 & 321.59 & 321.875 & 322.15999999999997 & 322.445 & 322.73 & 323.015 & 323.3 & 323.585 & 323.87 & 324.155 & 324.44 & 324.725 & 325.01 & 325.295 & 325.58 & 325.865 & 326.15 & 326.435 & 326.72 & 327.005 & 327.28999999999996 & 327.575 & 327.86 & 328.145 & 328.43 & 328.715 & 329.0 & 329.28499999999997 & 329.57 & 329.855 & 330.14 & 330.425 & 330.71 & 330.995 & 331.28 & 331.565 & 331.85 & 332.135 & 332.42 & 332.705 & 332.99 & 333.275 & 333.56 & 333.84499999999997 & 334.13 & 334.41499999999996 & 334.7 & 334.985 & 335.27 & 335.555 & 335.84 & 336.125 & 336.40999999999997 & 336.695 & 336.98 & 337.265 & 337.55 & 337.835 & 338.12 & 338.405 & 338.69 & 338.975 & 339.26 & 339.54499999999996 & 339.83 & 340.115 & 340.4 & 340.685 & 340.97 & 341.255 & 341.53999999999996 & 341.825 & 342.11 & 342.395 & 342.68 & 342.965 & 343.25 & 343.53499999999997 & 343.82 & 344.105 & 344.39 & 344.675 & 344.96 & 345.245 & 345.53 & 345.815 & 346.1 & 346.385 & 346.66999999999996 & 346.955 & 347.24 & 347.525 & 347.81 & 348.095 & 348.38 & 348.66499999999996 & 348.95 & 349.235 & 349.52 & 349.805 & 350.09 & 350.375 & 350.65999999999997 & 350.945 & 351.23 & 351.515 & 351.8 & 352.085 & 352.37 & 352.655 & 352.94 & 353.225 & 353.51 & 353.79499999999996 & 354.08 & 354.365 & 354.65 & 354.935 & 355.22 & 355.505 & 355.78999999999996 & 356.075 & 356.36 & 356.645 & 356.93 & 357.215 & 357.5 & 357.78499999999997 & 358.07 & 358.355 & 358.64 & 358.925 & 359.21 & 359.495 & 359.78 & 360.065 & 360.35 & 360.635 & 360.91999999999996 & 361.205 & 361.49 & 361.775 & 362.06 & 362.345 & 362.63 & 362.91499999999996 & 363.2 & 363.485 & 363.77 & 364.055 & 364.34 & 364.625 & 364.90999999999997 & 365.195 & 365.48 & 365.765 & 366.05 & 366.335 & 366.62 & 366.905 & 367.19 & 367.475 & 367.76 & 368.04499999999996 & 368.33 & 368.615 & 368.9 & 369.185 & 369.46999999999997 & 369.755 & 370.03999999999996 & 370.325 & 370.61 & 370.895 & 371.18 & 371.465 & 371.75 & 372.03499999999997 & 372.32 & 372.605 & 372.89 & 373.175 & 373.46 & 373.745 & 374.03 & 374.315 & 374.6 & 374.885 & 375.16999999999996 & 375.455 & 375.74 & 376.025 & 376.31 & 376.59499999999997 & 376.88 & 377.16499999999996 & 377.45 & 377.735 & 378.02 & 378.305 & 378.59 & 378.875 & 379.15999999999997 & 379.445 & 379.73 & 380.015 & 380.3 & 380.585 & 380.87 & 381.155 & 381.44 & 381.725 & 382.01 & 382.29499999999996 & 382.58 & 382.865 & 383.15 & 383.435 & 383.71999999999997 & 384.005 & 384.28999999999996 & 384.575 & 384.86 & 385.145 & 385.43 & 385.715 & 386.0 & 386.28499999999997 & 386.57 & 386.855 & 387.14 & 387.425 & 387.71 & 387.995 & 388.28 & 388.565 & 388.85 & 389.135 & 389.41999999999996 & 389.705 & 389.99 & 390.275 & 390.56 & 390.84499999999997 & 391.13 & 391.41499999999996 & 391.7 & 391.985 & 392.27 & 392.555 & 392.84 & 393.125 & 393.40999999999997 & 393.695 & 393.98 & 394.265 & 394.54999999999995 & 394.835 & 395.12 & 395.405 & 395.69 & 395.975 & 396.26 & 396.54499999999996 & 396.83 & 397.115 & 397.4 & 397.685 & 397.96999999999997 & 398.255 & 398.53999999999996 & 398.825 & 399.11 & 399.395 & 399.68 & 399.965 & 400.25 & 400.53499999999997 & 400.82 & 401.105 & 401.39 & 401.67499999999995 & 401.96 & 402.245 & 402.53 & 402.815 & 403.1 & 403.385 & 403.66999999999996 & 403.955 & 404.24 & 404.525 & 404.81 & 405.095 & 405.38 & 405.66499999999996 & 405.95 & 406.235 & 406.52 & 406.80499999999995 & 407.09 & 407.375 & 407.65999999999997 & 407.945 & 408.23 & 408.515 & 408.79999999999995 & 409.085 & 409.37 & 409.655 & 409.94 & 410.225 & 410.51 & 410.79499999999996 & 411.08 & 411.365 & 411.65 & 411.93499999999995 & 412.22 & 412.505 & 412.78999999999996 & 413.075 & 413.36 & 413.645 & 413.92999999999995 & 414.215 & 414.5 & 414.78499999999997 & 415.07 & 415.355 & 415.64 & 415.92499999999995 & 416.21 & 416.495 & 416.78 & 417.065 & 417.35 & 417.635 & 417.91999999999996 & 418.205 & 418.49 & 418.775 & 419.05999999999995 & 419.345 & 419.63 & 419.91499999999996 & 420.2 & 420.485 & 420.77 & 421.05499999999995 & 421.34 & 421.625 & 421.90999999999997 & 422.195 & 422.48 & 422.765 & 423.04999999999995 & 423.335 & 423.62 & 423.905 & 424.19 & 424.475 & 424.76 & 425.04499999999996 & 425.33 & 425.615 & 425.9 & 426.18499999999995 & 426.47 & 426.755 & 427.03999999999996 & 427.325 & 427.61 & 427.895 & 428.17999999999995 & 428.465 & 428.75 & 429.03499999999997 & 429.32 & 429.605 & 429.89 & 430.17499999999995 & 430.46 & 430.745 & 431.03 & 431.315 & 431.6 & 431.885 & 432.16999999999996 & 432.455 & 432.74 & 433.025 & 433.30999999999995 & 433.595 & 433.88 & 434.16499999999996 & 434.45 & 434.735 & 435.02 & 435.30499999999995 & 435.59 & 435.875 & 436.15999999999997 & 436.445 & 436.73 & 437.015 & 437.29999999999995 & 437.585 & 437.87 & 438.155 & 438.44 & 438.725 & 439.01 & 439.29499999999996 & 439.58 & 439.865 & 440.15 & 440.43499999999995 & 440.72 & 441.005 & 441.28999999999996 & 441.575 & 441.86 & 442.145 & 442.42999999999995 & 442.715 & 443.0 & 443.28499999999997 & 443.57 & 443.855 & 444.14 & 444.42499999999995 & 444.71 & 444.995 & 445.28 & 445.565 & 445.85 & 446.135 & 446.41999999999996 & 446.705 & 446.99 & 447.275 & 447.55999999999995 & 447.845 & 448.13 & 448.41499999999996 & 448.7 & 448.985 & 449.27 & 449.55499999999995 & 449.84 & 450.125 & 450.40999999999997 & 450.695 & 450.98 & 451.265 & 451.54999999999995 & 451.835 & 452.12 & 452.405 & 452.69 & 452.975 & 453.26 & 453.54499999999996 & 453.83 & 454.115 & 454.4 & 454.68499999999995 & 454.96999999999997 & 455.255 & 455.53999999999996 & 455.825 & 456.11 & 456.395 & 456.67999999999995 & 456.965 & 457.25 & 457.53499999999997 & 457.82 & 458.105 & 458.39 & 458.67499999999995 & 458.96 & 459.245 & 459.53 & 459.815 & 460.1 & 460.385 & 460.66999999999996 & 460.955 & 461.24 & 461.525 & 461.80999999999995 & 462.09499999999997 & 462.38 & 462.66499999999996 & 462.95 & 463.235 & 463.52 & 463.80499999999995 & 464.09 & 464.375 & 464.65999999999997 & 464.945 & 465.23 & 465.515 & 465.79999999999995 & 466.085 & 466.37 & 466.655 & 466.93999999999994 & 467.225 & 467.51 & 467.79499999999996 & 468.08 & 468.365 & 468.65 & 468.93499999999995 & 469.21999999999997 & 469.505 & 469.78999999999996 & 470.075 & 470.36 & 470.645 & 470.92999999999995 & 471.215 & 471.5 & 471.78499999999997 & 472.07 & 472.355 & 472.64 & 472.92499999999995 & 473.21 & 473.495 & 473.78 & 474.06499999999994 & 474.35 & 474.635 & 474.91999999999996 & 475.205 & 475.49 & 475.775 & 476.05999999999995 & 476.34499999999997 & 476.63 & 476.91499999999996 & 477.2 & 477.485 & 477.77 & 478.05499999999995 & 478.34 & 478.625 & 478.90999999999997 & 479.195 & 479.48 & 479.765 & 480.04999999999995 & 480.335 & 480.62 & 480.905 & 481.18999999999994 & 481.475 & 481.76 & 482.04499999999996 & 482.33 & 482.615 & 482.9 & 483.18499999999995 & 483.46999999999997 & 483.755 & 484.03999999999996 & 484.325 & 484.61 & 484.895 & 485.17999999999995 & 485.465 & 485.75 & 486.03499999999997 & 486.32 & 486.605 & 486.89 & 487.17499999999995 & 487.46 & 487.745 & 488.03 & 488.31499999999994 & 488.6 & 488.885 & 489.16999999999996 & 489.455 & 489.74 & 490.025 & 490.30999999999995 & 490.59499999999997 & 490.88 & 491.16499999999996 & 491.45 & 491.735 & 492.02 & 492.30499999999995 & 492.59 & 492.875 & 493.15999999999997 & 493.445 & 493.73 & 494.015 & 494.29999999999995 & 494.585 & 494.87 & 495.155 & 495.43999999999994 & 495.725 & 496.01 & 496.29499999999996 & 496.58 & 496.865 & 497.15 & 497.43499999999995 & 497.71999999999997 & 498.005 & 498.28999999999996 & 498.575 & 498.86 & 499.145 & 499.42999999999995 & 499.715 & 500.0\\end{pmatrix} parts_per_billion\\]"
      ],
      "text/latex": [
       "$\\begin{pmatrix}272.0 & 272.285 & 272.57 & 272.855 & 273.14 & 273.425 & 273.71 & 273.995 & 274.28 & 274.565 & 274.85 & 275.135 & 275.42 & 275.705 & 275.99 & 276.275 & 276.56 & 276.845 & 277.13 & 277.415 & 277.7 & 277.985 & 278.27 & 278.555 & 278.84 & 279.125 & 279.41 & 279.695 & 279.98 & 280.265 & 280.55 & 280.835 & 281.12 & 281.405 & 281.69 & 281.975 & 282.26 & 282.545 & 282.83 & 283.115 & 283.4 & 283.685 & 283.97 & 284.255 & 284.54 & 284.825 & 285.11 & 285.395 & 285.68 & 285.965 & 286.25 & 286.535 & 286.82 & 287.105 & 287.39 & 287.675 & 287.96 & 288.245 & 288.53 & 288.815 & 289.1 & 289.385 & 289.67 & 289.955 & 290.24 & 290.525 & 290.81 & 291.095 & 291.38 & 291.665 & 291.95 & 292.235 & 292.52 & 292.805 & 293.09 & 293.375 & 293.65999999999997 & 293.945 & 294.23 & 294.515 & 294.8 & 295.085 & 295.37 & 295.655 & 295.94 & 296.225 & 296.51 & 296.795 & 297.08 & 297.365 & 297.65 & 297.935 & 298.22 & 298.505 & 298.79 & 299.075 & 299.36 & 299.645 & 299.93 & 300.215 & 300.5 & 300.78499999999997 & 301.07 & 301.355 & 301.64 & 301.925 & 302.21 & 302.495 & 302.78 & 303.065 & 303.35 & 303.635 & 303.92 & 304.205 & 304.49 & 304.775 & 305.06 & 305.345 & 305.63 & 305.915 & 306.2 & 306.485 & 306.77 & 307.055 & 307.34 & 307.625 & 307.90999999999997 & 308.195 & 308.48 & 308.765 & 309.05 & 309.335 & 309.62 & 309.905 & 310.19 & 310.475 & 310.76 & 311.045 & 311.33 & 311.615 & 311.9 & 312.185 & 312.47 & 312.755 & 313.04 & 313.325 & 313.61 & 313.895 & 314.18 & 314.465 & 314.75 & 315.03499999999997 & 315.32 & 315.605 & 315.89 & 316.175 & 316.46 & 316.745 & 317.03 & 317.315 & 317.6 & 317.885 & 318.17 & 318.455 & 318.74 & 319.025 & 319.31 & 319.595 & 319.88 & 320.165 & 320.45 & 320.735 & 321.02 & 321.305 & 321.59 & 321.875 & 322.15999999999997 & 322.445 & 322.73 & 323.015 & 323.3 & 323.585 & 323.87 & 324.155 & 324.44 & 324.725 & 325.01 & 325.295 & 325.58 & 325.865 & 326.15 & 326.435 & 326.72 & 327.005 & 327.28999999999996 & 327.575 & 327.86 & 328.145 & 328.43 & 328.715 & 329.0 & 329.28499999999997 & 329.57 & 329.855 & 330.14 & 330.425 & 330.71 & 330.995 & 331.28 & 331.565 & 331.85 & 332.135 & 332.42 & 332.705 & 332.99 & 333.275 & 333.56 & 333.84499999999997 & 334.13 & 334.41499999999996 & 334.7 & 334.985 & 335.27 & 335.555 & 335.84 & 336.125 & 336.40999999999997 & 336.695 & 336.98 & 337.265 & 337.55 & 337.835 & 338.12 & 338.405 & 338.69 & 338.975 & 339.26 & 339.54499999999996 & 339.83 & 340.115 & 340.4 & 340.685 & 340.97 & 341.255 & 341.53999999999996 & 341.825 & 342.11 & 342.395 & 342.68 & 342.965 & 343.25 & 343.53499999999997 & 343.82 & 344.105 & 344.39 & 344.675 & 344.96 & 345.245 & 345.53 & 345.815 & 346.1 & 346.385 & 346.66999999999996 & 346.955 & 347.24 & 347.525 & 347.81 & 348.095 & 348.38 & 348.66499999999996 & 348.95 & 349.235 & 349.52 & 349.805 & 350.09 & 350.375 & 350.65999999999997 & 350.945 & 351.23 & 351.515 & 351.8 & 352.085 & 352.37 & 352.655 & 352.94 & 353.225 & 353.51 & 353.79499999999996 & 354.08 & 354.365 & 354.65 & 354.935 & 355.22 & 355.505 & 355.78999999999996 & 356.075 & 356.36 & 356.645 & 356.93 & 357.215 & 357.5 & 357.78499999999997 & 358.07 & 358.355 & 358.64 & 358.925 & 359.21 & 359.495 & 359.78 & 360.065 & 360.35 & 360.635 & 360.91999999999996 & 361.205 & 361.49 & 361.775 & 362.06 & 362.345 & 362.63 & 362.91499999999996 & 363.2 & 363.485 & 363.77 & 364.055 & 364.34 & 364.625 & 364.90999999999997 & 365.195 & 365.48 & 365.765 & 366.05 & 366.335 & 366.62 & 366.905 & 367.19 & 367.475 & 367.76 & 368.04499999999996 & 368.33 & 368.615 & 368.9 & 369.185 & 369.46999999999997 & 369.755 & 370.03999999999996 & 370.325 & 370.61 & 370.895 & 371.18 & 371.465 & 371.75 & 372.03499999999997 & 372.32 & 372.605 & 372.89 & 373.175 & 373.46 & 373.745 & 374.03 & 374.315 & 374.6 & 374.885 & 375.16999999999996 & 375.455 & 375.74 & 376.025 & 376.31 & 376.59499999999997 & 376.88 & 377.16499999999996 & 377.45 & 377.735 & 378.02 & 378.305 & 378.59 & 378.875 & 379.15999999999997 & 379.445 & 379.73 & 380.015 & 380.3 & 380.585 & 380.87 & 381.155 & 381.44 & 381.725 & 382.01 & 382.29499999999996 & 382.58 & 382.865 & 383.15 & 383.435 & 383.71999999999997 & 384.005 & 384.28999999999996 & 384.575 & 384.86 & 385.145 & 385.43 & 385.715 & 386.0 & 386.28499999999997 & 386.57 & 386.855 & 387.14 & 387.425 & 387.71 & 387.995 & 388.28 & 388.565 & 388.85 & 389.135 & 389.41999999999996 & 389.705 & 389.99 & 390.275 & 390.56 & 390.84499999999997 & 391.13 & 391.41499999999996 & 391.7 & 391.985 & 392.27 & 392.555 & 392.84 & 393.125 & 393.40999999999997 & 393.695 & 393.98 & 394.265 & 394.54999999999995 & 394.835 & 395.12 & 395.405 & 395.69 & 395.975 & 396.26 & 396.54499999999996 & 396.83 & 397.115 & 397.4 & 397.685 & 397.96999999999997 & 398.255 & 398.53999999999996 & 398.825 & 399.11 & 399.395 & 399.68 & 399.965 & 400.25 & 400.53499999999997 & 400.82 & 401.105 & 401.39 & 401.67499999999995 & 401.96 & 402.245 & 402.53 & 402.815 & 403.1 & 403.385 & 403.66999999999996 & 403.955 & 404.24 & 404.525 & 404.81 & 405.095 & 405.38 & 405.66499999999996 & 405.95 & 406.235 & 406.52 & 406.80499999999995 & 407.09 & 407.375 & 407.65999999999997 & 407.945 & 408.23 & 408.515 & 408.79999999999995 & 409.085 & 409.37 & 409.655 & 409.94 & 410.225 & 410.51 & 410.79499999999996 & 411.08 & 411.365 & 411.65 & 411.93499999999995 & 412.22 & 412.505 & 412.78999999999996 & 413.075 & 413.36 & 413.645 & 413.92999999999995 & 414.215 & 414.5 & 414.78499999999997 & 415.07 & 415.355 & 415.64 & 415.92499999999995 & 416.21 & 416.495 & 416.78 & 417.065 & 417.35 & 417.635 & 417.91999999999996 & 418.205 & 418.49 & 418.775 & 419.05999999999995 & 419.345 & 419.63 & 419.91499999999996 & 420.2 & 420.485 & 420.77 & 421.05499999999995 & 421.34 & 421.625 & 421.90999999999997 & 422.195 & 422.48 & 422.765 & 423.04999999999995 & 423.335 & 423.62 & 423.905 & 424.19 & 424.475 & 424.76 & 425.04499999999996 & 425.33 & 425.615 & 425.9 & 426.18499999999995 & 426.47 & 426.755 & 427.03999999999996 & 427.325 & 427.61 & 427.895 & 428.17999999999995 & 428.465 & 428.75 & 429.03499999999997 & 429.32 & 429.605 & 429.89 & 430.17499999999995 & 430.46 & 430.745 & 431.03 & 431.315 & 431.6 & 431.885 & 432.16999999999996 & 432.455 & 432.74 & 433.025 & 433.30999999999995 & 433.595 & 433.88 & 434.16499999999996 & 434.45 & 434.735 & 435.02 & 435.30499999999995 & 435.59 & 435.875 & 436.15999999999997 & 436.445 & 436.73 & 437.015 & 437.29999999999995 & 437.585 & 437.87 & 438.155 & 438.44 & 438.725 & 439.01 & 439.29499999999996 & 439.58 & 439.865 & 440.15 & 440.43499999999995 & 440.72 & 441.005 & 441.28999999999996 & 441.575 & 441.86 & 442.145 & 442.42999999999995 & 442.715 & 443.0 & 443.28499999999997 & 443.57 & 443.855 & 444.14 & 444.42499999999995 & 444.71 & 444.995 & 445.28 & 445.565 & 445.85 & 446.135 & 446.41999999999996 & 446.705 & 446.99 & 447.275 & 447.55999999999995 & 447.845 & 448.13 & 448.41499999999996 & 448.7 & 448.985 & 449.27 & 449.55499999999995 & 449.84 & 450.125 & 450.40999999999997 & 450.695 & 450.98 & 451.265 & 451.54999999999995 & 451.835 & 452.12 & 452.405 & 452.69 & 452.975 & 453.26 & 453.54499999999996 & 453.83 & 454.115 & 454.4 & 454.68499999999995 & 454.96999999999997 & 455.255 & 455.53999999999996 & 455.825 & 456.11 & 456.395 & 456.67999999999995 & 456.965 & 457.25 & 457.53499999999997 & 457.82 & 458.105 & 458.39 & 458.67499999999995 & 458.96 & 459.245 & 459.53 & 459.815 & 460.1 & 460.385 & 460.66999999999996 & 460.955 & 461.24 & 461.525 & 461.80999999999995 & 462.09499999999997 & 462.38 & 462.66499999999996 & 462.95 & 463.235 & 463.52 & 463.80499999999995 & 464.09 & 464.375 & 464.65999999999997 & 464.945 & 465.23 & 465.515 & 465.79999999999995 & 466.085 & 466.37 & 466.655 & 466.93999999999994 & 467.225 & 467.51 & 467.79499999999996 & 468.08 & 468.365 & 468.65 & 468.93499999999995 & 469.21999999999997 & 469.505 & 469.78999999999996 & 470.075 & 470.36 & 470.645 & 470.92999999999995 & 471.215 & 471.5 & 471.78499999999997 & 472.07 & 472.355 & 472.64 & 472.92499999999995 & 473.21 & 473.495 & 473.78 & 474.06499999999994 & 474.35 & 474.635 & 474.91999999999996 & 475.205 & 475.49 & 475.775 & 476.05999999999995 & 476.34499999999997 & 476.63 & 476.91499999999996 & 477.2 & 477.485 & 477.77 & 478.05499999999995 & 478.34 & 478.625 & 478.90999999999997 & 479.195 & 479.48 & 479.765 & 480.04999999999995 & 480.335 & 480.62 & 480.905 & 481.18999999999994 & 481.475 & 481.76 & 482.04499999999996 & 482.33 & 482.615 & 482.9 & 483.18499999999995 & 483.46999999999997 & 483.755 & 484.03999999999996 & 484.325 & 484.61 & 484.895 & 485.17999999999995 & 485.465 & 485.75 & 486.03499999999997 & 486.32 & 486.605 & 486.89 & 487.17499999999995 & 487.46 & 487.745 & 488.03 & 488.31499999999994 & 488.6 & 488.885 & 489.16999999999996 & 489.455 & 489.74 & 490.025 & 490.30999999999995 & 490.59499999999997 & 490.88 & 491.16499999999996 & 491.45 & 491.735 & 492.02 & 492.30499999999995 & 492.59 & 492.875 & 493.15999999999997 & 493.445 & 493.73 & 494.015 & 494.29999999999995 & 494.585 & 494.87 & 495.155 & 495.43999999999994 & 495.725 & 496.01 & 496.29499999999996 & 496.58 & 496.865 & 497.15 & 497.43499999999995 & 497.71999999999997 & 498.005 & 498.28999999999996 & 498.575 & 498.86 & 499.145 & 499.42999999999995 & 499.715 & 500.0\\end{pmatrix}\\ \\mathrm{parts_per_billion}$"
      ],
      "text/plain": [
       "array([ 272.   ,  272.285,  272.57 ,  272.855,  273.14 ,  273.425,\n",
       "        273.71 ,  273.995,  274.28 ,  274.565,  274.85 ,  275.135,\n",
       "        275.42 ,  275.705,  275.99 ,  276.275,  276.56 ,  276.845,\n",
       "        277.13 ,  277.415,  277.7  ,  277.985,  278.27 ,  278.555,\n",
       "        278.84 ,  279.125,  279.41 ,  279.695,  279.98 ,  280.265,\n",
       "        280.55 ,  280.835,  281.12 ,  281.405,  281.69 ,  281.975,\n",
       "        282.26 ,  282.545,  282.83 ,  283.115,  283.4  ,  283.685,\n",
       "        283.97 ,  284.255,  284.54 ,  284.825,  285.11 ,  285.395,\n",
       "        285.68 ,  285.965,  286.25 ,  286.535,  286.82 ,  287.105,\n",
       "        287.39 ,  287.675,  287.96 ,  288.245,  288.53 ,  288.815,\n",
       "        289.1  ,  289.385,  289.67 ,  289.955,  290.24 ,  290.525,\n",
       "        290.81 ,  291.095,  291.38 ,  291.665,  291.95 ,  292.235,\n",
       "        292.52 ,  292.805,  293.09 ,  293.375,  293.66 ,  293.945,\n",
       "        294.23 ,  294.515,  294.8  ,  295.085,  295.37 ,  295.655,\n",
       "        295.94 ,  296.225,  296.51 ,  296.795,  297.08 ,  297.365,\n",
       "        297.65 ,  297.935,  298.22 ,  298.505,  298.79 ,  299.075,\n",
       "        299.36 ,  299.645,  299.93 ,  300.215,  300.5  ,  300.785,\n",
       "        301.07 ,  301.355,  301.64 ,  301.925,  302.21 ,  302.495,\n",
       "        302.78 ,  303.065,  303.35 ,  303.635,  303.92 ,  304.205,\n",
       "        304.49 ,  304.775,  305.06 ,  305.345,  305.63 ,  305.915,\n",
       "        306.2  ,  306.485,  306.77 ,  307.055,  307.34 ,  307.625,\n",
       "        307.91 ,  308.195,  308.48 ,  308.765,  309.05 ,  309.335,\n",
       "        309.62 ,  309.905,  310.19 ,  310.475,  310.76 ,  311.045,\n",
       "        311.33 ,  311.615,  311.9  ,  312.185,  312.47 ,  312.755,\n",
       "        313.04 ,  313.325,  313.61 ,  313.895,  314.18 ,  314.465,\n",
       "        314.75 ,  315.035,  315.32 ,  315.605,  315.89 ,  316.175,\n",
       "        316.46 ,  316.745,  317.03 ,  317.315,  317.6  ,  317.885,\n",
       "        318.17 ,  318.455,  318.74 ,  319.025,  319.31 ,  319.595,\n",
       "        319.88 ,  320.165,  320.45 ,  320.735,  321.02 ,  321.305,\n",
       "        321.59 ,  321.875,  322.16 ,  322.445,  322.73 ,  323.015,\n",
       "        323.3  ,  323.585,  323.87 ,  324.155,  324.44 ,  324.725,\n",
       "        325.01 ,  325.295,  325.58 ,  325.865,  326.15 ,  326.435,\n",
       "        326.72 ,  327.005,  327.29 ,  327.575,  327.86 ,  328.145,\n",
       "        328.43 ,  328.715,  329.   ,  329.285,  329.57 ,  329.855,\n",
       "        330.14 ,  330.425,  330.71 ,  330.995,  331.28 ,  331.565,\n",
       "        331.85 ,  332.135,  332.42 ,  332.705,  332.99 ,  333.275,\n",
       "        333.56 ,  333.845,  334.13 ,  334.415,  334.7  ,  334.985,\n",
       "        335.27 ,  335.555,  335.84 ,  336.125,  336.41 ,  336.695,\n",
       "        336.98 ,  337.265,  337.55 ,  337.835,  338.12 ,  338.405,\n",
       "        338.69 ,  338.975,  339.26 ,  339.545,  339.83 ,  340.115,\n",
       "        340.4  ,  340.685,  340.97 ,  341.255,  341.54 ,  341.825,\n",
       "        342.11 ,  342.395,  342.68 ,  342.965,  343.25 ,  343.535,\n",
       "        343.82 ,  344.105,  344.39 ,  344.675,  344.96 ,  345.245,\n",
       "        345.53 ,  345.815,  346.1  ,  346.385,  346.67 ,  346.955,\n",
       "        347.24 ,  347.525,  347.81 ,  348.095,  348.38 ,  348.665,\n",
       "        348.95 ,  349.235,  349.52 ,  349.805,  350.09 ,  350.375,\n",
       "        350.66 ,  350.945,  351.23 ,  351.515,  351.8  ,  352.085,\n",
       "        352.37 ,  352.655,  352.94 ,  353.225,  353.51 ,  353.795,\n",
       "        354.08 ,  354.365,  354.65 ,  354.935,  355.22 ,  355.505,\n",
       "        355.79 ,  356.075,  356.36 ,  356.645,  356.93 ,  357.215,\n",
       "        357.5  ,  357.785,  358.07 ,  358.355,  358.64 ,  358.925,\n",
       "        359.21 ,  359.495,  359.78 ,  360.065,  360.35 ,  360.635,\n",
       "        360.92 ,  361.205,  361.49 ,  361.775,  362.06 ,  362.345,\n",
       "        362.63 ,  362.915,  363.2  ,  363.485,  363.77 ,  364.055,\n",
       "        364.34 ,  364.625,  364.91 ,  365.195,  365.48 ,  365.765,\n",
       "        366.05 ,  366.335,  366.62 ,  366.905,  367.19 ,  367.475,\n",
       "        367.76 ,  368.045,  368.33 ,  368.615,  368.9  ,  369.185,\n",
       "        369.47 ,  369.755,  370.04 ,  370.325,  370.61 ,  370.895,\n",
       "        371.18 ,  371.465,  371.75 ,  372.035,  372.32 ,  372.605,\n",
       "        372.89 ,  373.175,  373.46 ,  373.745,  374.03 ,  374.315,\n",
       "        374.6  ,  374.885,  375.17 ,  375.455,  375.74 ,  376.025,\n",
       "        376.31 ,  376.595,  376.88 ,  377.165,  377.45 ,  377.735,\n",
       "        378.02 ,  378.305,  378.59 ,  378.875,  379.16 ,  379.445,\n",
       "        379.73 ,  380.015,  380.3  ,  380.585,  380.87 ,  381.155,\n",
       "        381.44 ,  381.725,  382.01 ,  382.295,  382.58 ,  382.865,\n",
       "        383.15 ,  383.435,  383.72 ,  384.005,  384.29 ,  384.575,\n",
       "        384.86 ,  385.145,  385.43 ,  385.715,  386.   ,  386.285,\n",
       "        386.57 ,  386.855,  387.14 ,  387.425,  387.71 ,  387.995,\n",
       "        388.28 ,  388.565,  388.85 ,  389.135,  389.42 ,  389.705,\n",
       "        389.99 ,  390.275,  390.56 ,  390.845,  391.13 ,  391.415,\n",
       "        391.7  ,  391.985,  392.27 ,  392.555,  392.84 ,  393.125,\n",
       "        393.41 ,  393.695,  393.98 ,  394.265,  394.55 ,  394.835,\n",
       "        395.12 ,  395.405,  395.69 ,  395.975,  396.26 ,  396.545,\n",
       "        396.83 ,  397.115,  397.4  ,  397.685,  397.97 ,  398.255,\n",
       "        398.54 ,  398.825,  399.11 ,  399.395,  399.68 ,  399.965,\n",
       "        400.25 ,  400.535,  400.82 ,  401.105,  401.39 ,  401.675,\n",
       "        401.96 ,  402.245,  402.53 ,  402.815,  403.1  ,  403.385,\n",
       "        403.67 ,  403.955,  404.24 ,  404.525,  404.81 ,  405.095,\n",
       "        405.38 ,  405.665,  405.95 ,  406.235,  406.52 ,  406.805,\n",
       "        407.09 ,  407.375,  407.66 ,  407.945,  408.23 ,  408.515,\n",
       "        408.8  ,  409.085,  409.37 ,  409.655,  409.94 ,  410.225,\n",
       "        410.51 ,  410.795,  411.08 ,  411.365,  411.65 ,  411.935,\n",
       "        412.22 ,  412.505,  412.79 ,  413.075,  413.36 ,  413.645,\n",
       "        413.93 ,  414.215,  414.5  ,  414.785,  415.07 ,  415.355,\n",
       "        415.64 ,  415.925,  416.21 ,  416.495,  416.78 ,  417.065,\n",
       "        417.35 ,  417.635,  417.92 ,  418.205,  418.49 ,  418.775,\n",
       "        419.06 ,  419.345,  419.63 ,  419.915,  420.2  ,  420.485,\n",
       "        420.77 ,  421.055,  421.34 ,  421.625,  421.91 ,  422.195,\n",
       "        422.48 ,  422.765,  423.05 ,  423.335,  423.62 ,  423.905,\n",
       "        424.19 ,  424.475,  424.76 ,  425.045,  425.33 ,  425.615,\n",
       "        425.9  ,  426.185,  426.47 ,  426.755,  427.04 ,  427.325,\n",
       "        427.61 ,  427.895,  428.18 ,  428.465,  428.75 ,  429.035,\n",
       "        429.32 ,  429.605,  429.89 ,  430.175,  430.46 ,  430.745,\n",
       "        431.03 ,  431.315,  431.6  ,  431.885,  432.17 ,  432.455,\n",
       "        432.74 ,  433.025,  433.31 ,  433.595,  433.88 ,  434.165,\n",
       "        434.45 ,  434.735,  435.02 ,  435.305,  435.59 ,  435.875,\n",
       "        436.16 ,  436.445,  436.73 ,  437.015,  437.3  ,  437.585,\n",
       "        437.87 ,  438.155,  438.44 ,  438.725,  439.01 ,  439.295,\n",
       "        439.58 ,  439.865,  440.15 ,  440.435,  440.72 ,  441.005,\n",
       "        441.29 ,  441.575,  441.86 ,  442.145,  442.43 ,  442.715,\n",
       "        443.   ,  443.285,  443.57 ,  443.855,  444.14 ,  444.425,\n",
       "        444.71 ,  444.995,  445.28 ,  445.565,  445.85 ,  446.135,\n",
       "        446.42 ,  446.705,  446.99 ,  447.275,  447.56 ,  447.845,\n",
       "        448.13 ,  448.415,  448.7  ,  448.985,  449.27 ,  449.555,\n",
       "        449.84 ,  450.125,  450.41 ,  450.695,  450.98 ,  451.265,\n",
       "        451.55 ,  451.835,  452.12 ,  452.405,  452.69 ,  452.975,\n",
       "        453.26 ,  453.545,  453.83 ,  454.115,  454.4  ,  454.685,\n",
       "        454.97 ,  455.255,  455.54 ,  455.825,  456.11 ,  456.395,\n",
       "        456.68 ,  456.965,  457.25 ,  457.535,  457.82 ,  458.105,\n",
       "        458.39 ,  458.675,  458.96 ,  459.245,  459.53 ,  459.815,\n",
       "        460.1  ,  460.385,  460.67 ,  460.955,  461.24 ,  461.525,\n",
       "        461.81 ,  462.095,  462.38 ,  462.665,  462.95 ,  463.235,\n",
       "        463.52 ,  463.805,  464.09 ,  464.375,  464.66 ,  464.945,\n",
       "        465.23 ,  465.515,  465.8  ,  466.085,  466.37 ,  466.655,\n",
       "        466.94 ,  467.225,  467.51 ,  467.795,  468.08 ,  468.365,\n",
       "        468.65 ,  468.935,  469.22 ,  469.505,  469.79 ,  470.075,\n",
       "        470.36 ,  470.645,  470.93 ,  471.215,  471.5  ,  471.785,\n",
       "        472.07 ,  472.355,  472.64 ,  472.925,  473.21 ,  473.495,\n",
       "        473.78 ,  474.065,  474.35 ,  474.635,  474.92 ,  475.205,\n",
       "        475.49 ,  475.775,  476.06 ,  476.345,  476.63 ,  476.915,\n",
       "        477.2  ,  477.485,  477.77 ,  478.055,  478.34 ,  478.625,\n",
       "        478.91 ,  479.195,  479.48 ,  479.765,  480.05 ,  480.335,\n",
       "        480.62 ,  480.905,  481.19 ,  481.475,  481.76 ,  482.045,\n",
       "        482.33 ,  482.615,  482.9  ,  483.185,  483.47 ,  483.755,\n",
       "        484.04 ,  484.325,  484.61 ,  484.895,  485.18 ,  485.465,\n",
       "        485.75 ,  486.035,  486.32 ,  486.605,  486.89 ,  487.175,\n",
       "        487.46 ,  487.745,  488.03 ,  488.315,  488.6  ,  488.885,\n",
       "        489.17 ,  489.455,  489.74 ,  490.025,  490.31 ,  490.595,\n",
       "        490.88 ,  491.165,  491.45 ,  491.735,  492.02 ,  492.305,\n",
       "        492.59 ,  492.875,  493.16 ,  493.445,  493.73 ,  494.015,\n",
       "        494.3  ,  494.585,  494.87 ,  495.155,  495.44 ,  495.725,\n",
       "        496.01 ,  496.295,  496.58 ,  496.865,  497.15 ,  497.435,\n",
       "        497.72 ,  498.005,  498.29 ,  498.575,  498.86 ,  499.145,\n",
       "        499.43 ,  499.715,  500.   ]) <Unit('parts_per_billion')>"
      ]
     },
     "execution_count": 22,
     "metadata": {},
     "output_type": "execute_result"
    }
   ],
   "source": [
    "np.linspace(272,500,801) * unit.ppb"
   ]
  },
  {
   "cell_type": "code",
   "execution_count": null,
   "metadata": {
    "collapsed": true
   },
   "outputs": [],
   "source": []
  }
 ],
 "metadata": {
  "kernelspec": {
   "display_name": "Python 3",
   "language": "python",
   "name": "python3"
  },
  "language_info": {
   "codemirror_mode": {
    "name": "ipython",
    "version": 3
   },
   "file_extension": ".py",
   "mimetype": "text/x-python",
   "name": "python",
   "nbconvert_exporter": "python",
   "pygments_lexer": "ipython3",
   "version": "3.5.2"
  }
 },
 "nbformat": 4,
 "nbformat_minor": 2
}
