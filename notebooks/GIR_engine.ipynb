{
 "cells": [
  {
   "cell_type": "code",
   "execution_count": 1,
   "metadata": {},
   "outputs": [],
   "source": [
    "import fair\n",
    "import numpy as np\n",
    "from fair.gas_cycle.gir import calculate_alpha, step_concentration"
   ]
  },
  {
   "cell_type": "code",
   "execution_count": 2,
   "metadata": {},
   "outputs": [],
   "source": [
    "# def calculate_alpha(cumulative_emissions,airborne_fraction,temperature,r0,rC,rT,g0,g1,iirf_max = 97.0):\n",
    "#     iirf = r0 + rC * (cumulative_emissions-airborne_fraction) + rT * temperature\n",
    "#     iirf = np.abs(iirf)  # not sure I understand this - it should never be negative\n",
    "#     iirf = (iirf>iirf_max) * iirf_max + iirf * (iirf<iirf_max)\n",
    "#     alpha = g0 * np.sinh(iirf / g1)\n",
    "#     return alpha\n",
    "\n",
    "# def step_concentration(R_old,E,alpha,a,tau,PI_conc,emis2conc,dt=1):\n",
    "#     R_new = E * emis2conc * a * alpha * (tau/dt) * (1. - np.exp(-dt/(alpha*tau))) + R_old * np.exp(-dt/(alpha*tau))\n",
    "#     C = PI_conc + np.sum(R_new + R_old,axis=-1) / 2\n",
    "#     G_A = np.sum(R_new,axis=-1) / emis2conc\n",
    "#     return C,R_new,G_A"
   ]
  },
  {
   "cell_type": "code",
   "execution_count": 3,
   "metadata": {},
   "outputs": [],
   "source": [
    "# still AR5-like IR models - can we tune?\n",
    "a = np.array([0.217300, 0.224000, 0.282400, 0.276300])\n",
    "tau = np.array([1000000.000000, 394.400000, 36.540000, 4.304000])\n",
    "r0 = 32.4\n",
    "rC = 0.019\n",
    "rT = 4.165"
   ]
  },
  {
   "cell_type": "code",
   "execution_count": 4,
   "metadata": {},
   "outputs": [
    {
     "data": {
      "text/plain": [
       "32.4"
      ]
     },
     "execution_count": 4,
     "metadata": {},
     "output_type": "execute_result"
    }
   ],
   "source": [
    "r0"
   ]
  },
  {
   "cell_type": "code",
   "execution_count": 5,
   "metadata": {},
   "outputs": [
    {
     "name": "stdout",
     "output_type": "stream",
     "text": [
      "11.413707797322035 0.020369508004424063\n"
     ]
    }
   ],
   "source": [
    "emissions = np.ones(100)*10\n",
    "C = np.zeros(100)\n",
    "G_A = np.zeros(100)\n",
    "alpha = np.zeros(100)\n",
    "\n",
    "iirf_horizon=100\n",
    "g1 = np.sum(a*tau * (1 - (1 + iirf_horizon/tau) * np.exp(-iirf_horizon/tau)))\n",
    "g0 = 1/(np.sinh(np.sum(a*tau*(1 - np.exp(-iirf_horizon/tau)) , axis=-1)/g1))\n",
    "\n",
    "print(g1, g0)"
   ]
  },
  {
   "cell_type": "code",
   "execution_count": 6,
   "metadata": {},
   "outputs": [],
   "source": [
    "alpha[0] = calculate_alpha(0,G_A[0],0,r0=r0,rC=rC,rT=rT,g0=g0,g1=g1)\n",
    "#alpha[0]"
   ]
  },
  {
   "cell_type": "code",
   "execution_count": 7,
   "metadata": {},
   "outputs": [],
   "source": [
    "G = np.cumsum(emissions)\n",
    "C[0],R,G_A[0] = step_concentration(\n",
    "    np.zeros(a.shape),\n",
    "    emissions[0],\n",
    "    alpha[0],\n",
    "    a,\n",
    "    tau,\n",
    "    278,\n",
    "    dt=1\n",
    ")"
   ]
  },
  {
   "cell_type": "code",
   "execution_count": 8,
   "metadata": {},
   "outputs": [
    {
     "data": {
      "text/plain": [
       "array([280.00381124,   0.        ,   0.        ,   0.        ,\n",
       "         0.        ,   0.        ,   0.        ,   0.        ,\n",
       "         0.        ,   0.        ,   0.        ,   0.        ,\n",
       "         0.        ,   0.        ,   0.        ,   0.        ,\n",
       "         0.        ,   0.        ,   0.        ,   0.        ,\n",
       "         0.        ,   0.        ,   0.        ,   0.        ,\n",
       "         0.        ,   0.        ,   0.        ,   0.        ,\n",
       "         0.        ,   0.        ,   0.        ,   0.        ,\n",
       "         0.        ,   0.        ,   0.        ,   0.        ,\n",
       "         0.        ,   0.        ,   0.        ,   0.        ,\n",
       "         0.        ,   0.        ,   0.        ,   0.        ,\n",
       "         0.        ,   0.        ,   0.        ,   0.        ,\n",
       "         0.        ,   0.        ,   0.        ,   0.        ,\n",
       "         0.        ,   0.        ,   0.        ,   0.        ,\n",
       "         0.        ,   0.        ,   0.        ,   0.        ,\n",
       "         0.        ,   0.        ,   0.        ,   0.        ,\n",
       "         0.        ,   0.        ,   0.        ,   0.        ,\n",
       "         0.        ,   0.        ,   0.        ,   0.        ,\n",
       "         0.        ,   0.        ,   0.        ,   0.        ,\n",
       "         0.        ,   0.        ,   0.        ,   0.        ,\n",
       "         0.        ,   0.        ,   0.        ,   0.        ,\n",
       "         0.        ,   0.        ,   0.        ,   0.        ,\n",
       "         0.        ,   0.        ,   0.        ,   0.        ,\n",
       "         0.        ,   0.        ,   0.        ,   0.        ,\n",
       "         0.        ,   0.        ,   0.        ,   0.        ])"
      ]
     },
     "execution_count": 8,
     "metadata": {},
     "output_type": "execute_result"
    }
   ],
   "source": [
    "C"
   ]
  },
  {
   "cell_type": "code",
   "execution_count": 9,
   "metadata": {},
   "outputs": [
    {
     "data": {
      "text/plain": [
       "array([1.02071994, 1.04454364, 1.22718543, 0.71517346])"
      ]
     },
     "execution_count": 9,
     "metadata": {},
     "output_type": "execute_result"
    }
   ],
   "source": [
    "R"
   ]
  },
  {
   "cell_type": "code",
   "execution_count": 10,
   "metadata": {},
   "outputs": [
    {
     "data": {
      "text/plain": [
       "array([8.53176094, 0.        , 0.        , 0.        , 0.        ,\n",
       "       0.        , 0.        , 0.        , 0.        , 0.        ,\n",
       "       0.        , 0.        , 0.        , 0.        , 0.        ,\n",
       "       0.        , 0.        , 0.        , 0.        , 0.        ,\n",
       "       0.        , 0.        , 0.        , 0.        , 0.        ,\n",
       "       0.        , 0.        , 0.        , 0.        , 0.        ,\n",
       "       0.        , 0.        , 0.        , 0.        , 0.        ,\n",
       "       0.        , 0.        , 0.        , 0.        , 0.        ,\n",
       "       0.        , 0.        , 0.        , 0.        , 0.        ,\n",
       "       0.        , 0.        , 0.        , 0.        , 0.        ,\n",
       "       0.        , 0.        , 0.        , 0.        , 0.        ,\n",
       "       0.        , 0.        , 0.        , 0.        , 0.        ,\n",
       "       0.        , 0.        , 0.        , 0.        , 0.        ,\n",
       "       0.        , 0.        , 0.        , 0.        , 0.        ,\n",
       "       0.        , 0.        , 0.        , 0.        , 0.        ,\n",
       "       0.        , 0.        , 0.        , 0.        , 0.        ,\n",
       "       0.        , 0.        , 0.        , 0.        , 0.        ,\n",
       "       0.        , 0.        , 0.        , 0.        , 0.        ,\n",
       "       0.        , 0.        , 0.        , 0.        , 0.        ,\n",
       "       0.        , 0.        , 0.        , 0.        , 0.        ])"
      ]
     },
     "execution_count": 10,
     "metadata": {},
     "output_type": "execute_result"
    }
   ],
   "source": [
    "G_A"
   ]
  },
  {
   "cell_type": "code",
   "execution_count": 11,
   "metadata": {},
   "outputs": [],
   "source": [
    "# forcing here\n",
    "# temperature here\n",
    "\n",
    "for t in np.arange(1,100):\n",
    "    alpha[t] = calculate_alpha(G[t-1],G_A[t-1],0,r0=r0,rC=rC,rT=rT,g0=g0,g1=g1)\n",
    "    C[t],R,G_A[t] = step_concentration(\n",
    "        R,\n",
    "        emissions[t],\n",
    "        alpha[t],\n",
    "        a,\n",
    "        tau,\n",
    "        278,\n",
    "        dt=1\n",
    "    )\n",
    "    # forcing_here\n",
    "    # temperature_here\n"
   ]
  },
  {
   "cell_type": "code",
   "execution_count": 12,
   "metadata": {},
   "outputs": [],
   "source": [
    "import matplotlib.pyplot as pl"
   ]
  },
  {
   "cell_type": "code",
   "execution_count": 13,
   "metadata": {},
   "outputs": [
    {
     "data": {
      "text/plain": [
       "[<matplotlib.lines.Line2D at 0x7fdde47d7710>]"
      ]
     },
     "execution_count": 13,
     "metadata": {},
     "output_type": "execute_result"
    },
    {
     "data": {
      "image/png": "[encoded data removed]",
      "text/plain": [
       "<Figure size 432x288 with 1 Axes>"
      ]
     },
     "metadata": {
      "needs_background": "light"
     },
     "output_type": "display_data"
    }
   ],
   "source": [
    "pl.plot(C)"
   ]
  },
  {
   "cell_type": "code",
   "execution_count": 14,
   "metadata": {},
   "outputs": [
    {
     "data": {
      "text/plain": [
       "array([  8.53176094,  15.53123556,  21.88949383,  27.87296916,\n",
       "        33.58071659,  39.06393908,  44.35752253,  49.48879288,\n",
       "        54.48030605,  59.35101387,  64.11694024,  68.79167189,\n",
       "        73.38675148,  77.91200331,  82.37580592,  86.78532074,\n",
       "        91.14668403,  95.46516773,  99.74531454, 103.9910511 ,\n",
       "       108.20578293, 112.39247416, 116.55371443, 120.69177509,\n",
       "       124.80865648, 128.90612773, 132.98576025, 137.04895603,\n",
       "       141.0969715 , 145.13093771, 149.15187747, 153.1607198 ,\n",
       "       157.15831225, 161.14543139, 165.12279173, 169.09105333,\n",
       "       173.0508283 , 177.00268641, 180.94715988, 184.88474747,\n",
       "       188.81591808, 192.74111379, 196.66075253, 200.5752304 ,\n",
       "       204.48492368, 208.39019059, 212.29137283, 216.18879692,\n",
       "       220.0827754 , 223.97360792, 227.86158209, 231.74697439,\n",
       "       235.63005087, 239.51106782, 243.39027239, 247.26790309,\n",
       "       251.14419028, 255.01935664, 258.89361757, 262.76718152,\n",
       "       266.64025035, 270.51301967, 274.38567905, 278.25841237,\n",
       "       282.13139801, 286.00480908, 289.87881368, 293.75357505,\n",
       "       297.62925176, 301.50599792, 305.38396332, 309.2632936 ,\n",
       "       313.14413037, 317.02661139, 320.91087068, 324.79703865,\n",
       "       328.68524221, 332.57560491, 336.46824702, 340.36328567,\n",
       "       344.26083492, 348.16100586, 352.06390672, 355.96964293,\n",
       "       359.87831723, 363.79002975, 367.70487806, 371.6229573 ,\n",
       "       375.54436017, 379.46917708, 383.39749619, 387.32940344,\n",
       "       391.26498267, 395.20431564, 399.1474821 , 403.09455984,\n",
       "       407.04562478, 411.00075094, 414.96001061, 418.92347427])"
      ]
     },
     "execution_count": 14,
     "metadata": {},
     "output_type": "execute_result"
    }
   ],
   "source": [
    "G_A"
   ]
  },
  {
   "cell_type": "code",
   "execution_count": 15,
   "metadata": {},
   "outputs": [
    {
     "data": {
      "text/plain": [
       "[<matplotlib.lines.Line2D at 0x7fdd86fb1190>]"
      ]
     },
     "execution_count": 15,
     "metadata": {},
     "output_type": "execute_result"
    },
    {
     "data": {
      "image/png": "[encoded data removed]",
      "text/plain": [
       "<Figure size 432x288 with 1 Axes>"
      ]
     },
     "metadata": {
      "needs_background": "light"
     },
     "output_type": "display_data"
    }
   ],
   "source": [
    "pl.plot(G_A/G)"
   ]
  },
  {
   "cell_type": "code",
   "execution_count": null,
   "metadata": {},
   "outputs": [],
   "source": []
  }
 ],
 "metadata": {
  "kernelspec": {
   "display_name": "Python 3",
   "language": "python",
   "name": "python3"
  },
  "language_info": {
   "codemirror_mode": {
    "name": "ipython",
    "version": 3
   },
   "file_extension": ".py",
   "mimetype": "text/x-python",
   "name": "python",
   "nbconvert_exporter": "python",
   "pygments_lexer": "ipython3",
   "version": "3.7.7"
  }
 },
 "nbformat": 4,
 "nbformat_minor": 4
}
