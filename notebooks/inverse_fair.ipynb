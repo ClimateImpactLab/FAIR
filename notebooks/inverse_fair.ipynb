{
 "cells": [
  {
   "cell_type": "markdown",
   "metadata": {
    "deletable": true,
    "editable": true
   },
   "source": [
    "# Inverse FaIR\n",
    "This notebook gives an example of running FaIR in reverse: given concentrations of CO2, diagnose the emissions."
   ]
  },
  {
   "cell_type": "code",
   "execution_count": 1,
   "metadata": {
    "collapsed": false,
    "deletable": true,
    "editable": true
   },
   "outputs": [],
   "source": [
    "import numpy as np\n",
    "from scipy.optimize import root\n",
    "from fair.forward import forc_to_temp, calculate_q, iirf_simple, iirf_interp\n",
    "from fair.forcing.ghg import co2_log\n",
    "from fair.defaults import carbon, thermal\n",
    "from fair.constants import molwt\n",
    "from fair.constants.general import M_ATMOS"
   ]
  },
  {
   "cell_type": "code",
   "execution_count": 2,
   "metadata": {
    "collapsed": false,
    "deletable": true,
    "editable": true
   },
   "outputs": [],
   "source": [
    "def infer_emissions(e1, c1_prescribed, carbon_boxes0, tau_new, a, ppm_gtc, c_pi):\n",
    "    c1_calculated = np.sum(carbon_boxes0*np.exp(-1.0/tau_new) + a*e1 / ppm_gtc) + c_pi\n",
    "    return c1_calculated-c1_prescribed\n",
    "\n",
    "\n",
    "def inverse_carbon_cycle(c1, c_acc0, temp, r0, rc, rt, iirf_max, time_scale_sf, a,\n",
    "                     tau, iirf_h, carbon_boxes0, ppm_gtc, c_pi, c0, e0):\n",
    "\n",
    "    iirf = iirf_simple(c_acc0, temp, r0, rc, rt, iirf_max)\n",
    "    time_scale_sf = root(iirf_interp, time_scale_sf,\n",
    "      args=(a, tau, iirf_h, iirf))['x']\n",
    "    tau_new = tau * time_scale_sf\n",
    "    e1 = root(infer_emissions, e0, args=(c1, carbon_boxes0, tau_new, a, ppm_gtc, c_pi))['x']\n",
    "    c_acc1 = c_acc0 + 0.5*(e1 + e0) - (c1 - c0)*ppm_gtc\n",
    "    #print carbon_boxes0.shape, tau_new.shape, a.shape, e1.shape\n",
    "    carbon_boxes1 = carbon_boxes0*np.exp(-1.0/tau_new) + a*e1 / ppm_gtc\n",
    "    return e1, c_acc1, carbon_boxes1, time_scale_sf"
   ]
  },
  {
   "cell_type": "markdown",
   "metadata": {},
   "source": [
    "## Test with a 1% CO2 run"
   ]
  },
  {
   "cell_type": "code",
   "execution_count": 3,
   "metadata": {
    "collapsed": false
   },
   "outputs": [],
   "source": [
    "nt = 140\n",
    "c         = 1.01**np.arange(nt) * 278.\n",
    "c_acc     = np.zeros(nt)\n",
    "carbon_boxes = np.zeros((nt,4))\n",
    "emissions = np.zeros(nt) # this is the solution vector\n",
    "T_j       = np.zeros((nt,2))\n",
    "r0        = carbon.r0\n",
    "rc        = carbon.rc\n",
    "rt        = carbon.rt\n",
    "iirf_max  = carbon.iirf_max\n",
    "time_scale_sf = 0.16\n",
    "a         = carbon.a\n",
    "tau       = carbon.tau\n",
    "iirf_h    = carbon.iirf_h\n",
    "ppm_gtc   = M_ATMOS/1e18*molwt.C/molwt.AIR\n",
    "c_pi      = 278.\n",
    "F         = np.zeros(nt)"
   ]
  },
  {
   "cell_type": "code",
   "execution_count": 4,
   "metadata": {
    "collapsed": false
   },
   "outputs": [],
   "source": [
    "tcrecs  = np.array([1.7, 3.0])\n",
    "d       = thermal.d\n",
    "f2x     = thermal.f2x\n",
    "tcr_dbl = thermal.tcr_dbl\n",
    "q       = calculate_q(tcrecs, d, f2x, tcr_dbl, nt)\n",
    "\n",
    "emissions[0] = root(infer_emissions, 0., args=(c[0], carbon_boxes[0], tau, a, ppm_gtc, c_pi))['x']\n",
    "F[0]         = co2_log(c[0], c_pi, F2x=f2x)\n",
    "T_j[0,:]     = forc_to_temp(T_j[0,:], q[0,:], d, F[0])\n",
    "time_scale_sf= 0.16\n",
    "\n",
    "for t in range(1,nt):\n",
    "    emissions[t], c_acc[t], carbon_boxes[t,:], time_scale_sf = inv_carbon_cycle(\n",
    "        c[t], c_acc[t-1], np.sum(T_j[t-1,:]), r0, rc, rt, iirf_max, time_scale_sf, a,\n",
    "        tau, iirf_h, carbon_boxes[t-1,:], ppm_gtc, c_pi, c[t-1], emissions[t-1])\n",
    "    F[t] = co2_log(c[t], c_pi)\n",
    "    T_j[t,:] = forc_to_temp(T_j[t-1,:], q[t,:], d, F[t])\n",
    "\n",
    "T = np.sum(T_j, axis=-1)"
   ]
  },
  {
   "cell_type": "code",
   "execution_count": 5,
   "metadata": {
    "collapsed": false
   },
   "outputs": [
    {
     "data": {
      "text/plain": [
       "[<matplotlib.lines.Line2D at 0x7fa1efd74c50>]"
      ]
     },
     "execution_count": 5,
     "metadata": {},
     "output_type": "execute_result"
    },
    {
     "data": {
      "image/png": "[encoded data removed]",
      "text/plain": [
       "<matplotlib.figure.Figure at 0x7fa1f07d9a50>"
      ]
     },
     "metadata": {},
     "output_type": "display_data"
    }
   ],
   "source": [
    "import matplotlib.pyplot as pl\n",
    "%matplotlib inline\n",
    "pl.plot(emissions)"
   ]
  },
  {
   "cell_type": "code",
   "execution_count": 6,
   "metadata": {
    "collapsed": false
   },
   "outputs": [
    {
     "data": {
      "text/plain": [
       "[<matplotlib.lines.Line2D at 0x7fa1e94ac650>]"
      ]
     },
     "execution_count": 6,
     "metadata": {},
     "output_type": "execute_result"
    },
    {
     "data": {
      "image/png": "[encoded data removed]",
      "text/plain": [
       "<matplotlib.figure.Figure at 0x7fa1efceff50>"
      ]
     },
     "metadata": {},
     "output_type": "display_data"
    }
   ],
   "source": [
    "pl.plot(T)"
   ]
  },
  {
   "cell_type": "code",
   "execution_count": 7,
   "metadata": {
    "collapsed": false
   },
   "outputs": [
    {
     "data": {
      "text/plain": [
       "[<matplotlib.lines.Line2D at 0x7fa1e9407110>]"
      ]
     },
     "execution_count": 7,
     "metadata": {},
     "output_type": "execute_result"
    },
    {
     "data": {
      "image/png": "[encoded data removed]",
      "text/plain": [
       "<matplotlib.figure.Figure at 0x7fa1e9472fd0>"
      ]
     },
     "metadata": {},
     "output_type": "display_data"
    }
   ],
   "source": [
    "pl.plot(F)"
   ]
  },
  {
   "cell_type": "markdown",
   "metadata": {},
   "source": [
    "In this example, turn off the temperature feedback on carbon cycle"
   ]
  },
  {
   "cell_type": "code",
   "execution_count": 8,
   "metadata": {
    "collapsed": true
   },
   "outputs": [],
   "source": [
    "c_acc2     = np.zeros(nt)\n",
    "carbon_boxes2 = np.zeros((nt,4))\n",
    "emissions2 = np.zeros(nt) # this is the solution vector\n",
    "T_j2       = np.zeros((nt,2))\n",
    "rt        = 0.\n",
    "F2         = np.zeros(nt)\n",
    "\n",
    "emissions2[0] = root(infer_emissions, 0., args=(c[0], carbon_boxes2[0], tau, a, ppm_gtc, c_pi))['x']\n",
    "F2[0]         = co2_log(c[0], c_pi, F2x=f2x)\n",
    "T_j2[0,:]     = forc_to_temp(T_j2[0,:], q[0,:], d, F2[0])\n",
    "time_scale_sf= 0.16\n",
    "\n",
    "for t in range(1,nt):\n",
    "    emissions2[t], c_acc[t], carbon_boxes2[t,:], time_scale_sf = inv_carbon_cycle(\n",
    "        c[t], c_acc2[t-1], np.sum(T_j2[t-1,:]), r0, rc, rt, iirf_max, time_scale_sf, a,\n",
    "        tau, iirf_h, carbon_boxes2[t-1,:], ppm_gtc, c_pi, c[t-1], emissions2[t-1])\n",
    "    F2[t] = co2_log(c[t], c_pi)\n",
    "    T_j2[t,:] = forc_to_temp(T_j2[t-1,:], q[t,:], d, F2[t])\n",
    "\n",
    "T2 = np.sum(T_j2, axis=-1)"
   ]
  },
  {
   "cell_type": "code",
   "execution_count": 9,
   "metadata": {
    "collapsed": false
   },
   "outputs": [
    {
     "data": {
      "text/plain": [
       "[<matplotlib.lines.Line2D at 0x7fa1e939e810>]"
      ]
     },
     "execution_count": 9,
     "metadata": {},
     "output_type": "execute_result"
    },
    {
     "data": {
      "image/png": "[encoded data removed]",
      "text/plain": [
       "<matplotlib.figure.Figure at 0x7fa1e939e7d0>"
      ]
     },
     "metadata": {},
     "output_type": "display_data"
    }
   ],
   "source": [
    "pl.plot(emissions)\n",
    "pl.plot(emissions2)"
   ]
  },
  {
   "cell_type": "code",
   "execution_count": null,
   "metadata": {
    "collapsed": true
   },
   "outputs": [],
   "source": []
  }
 ],
 "metadata": {
  "kernelspec": {
   "display_name": "Python 2",
   "language": "python",
   "name": "python2"
  },
  "language_info": {
   "codemirror_mode": {
    "name": "ipython",
    "version": 2
   },
   "file_extension": ".py",
   "mimetype": "text/x-python",
   "name": "python",
   "nbconvert_exporter": "python",
   "pygments_lexer": "ipython2",
   "version": "2.7.13"
  }
 },
 "nbformat": 4,
 "nbformat_minor": 2
}
