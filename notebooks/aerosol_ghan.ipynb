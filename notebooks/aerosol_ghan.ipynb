{
 "cells": [
  {
   "cell_type": "markdown",
   "metadata": {
    "deletable": true,
    "editable": true
   },
   "source": [
    "# Ghan's aerosol simulator\n",
    "1. check differences between original Fortran and this Python implementation. I think due to\n",
    "  - numerical precision error in some components\n",
    "  - inaccuracies (0.333 versus 1/3), line 1351\n",
    "  - small errors in Ghan's original code\n",
    "2. refactor as much as possible\n",
    "3. naerpd is not being used if there is a different present day emissions?\n",
    "4. accumulation mode of naernat has a huge influence on the PD forcing.\n",
    "5. `distanthro` parameter: OK correspondence with Ghan except for `ccn` where Ghan's original code gives silly number, and `number` where difference is about 0.13 W/m2."
   ]
  },
  {
   "cell_type": "code",
   "execution_count": 1,
   "metadata": {
    "collapsed": false,
    "deletable": true,
    "editable": true
   },
   "outputs": [],
   "source": [
    "from fair.forcing import ghan_indirect\n",
    "import numpy as np"
   ]
  },
  {
   "cell_type": "code",
   "execution_count": 2,
   "metadata": {
    "collapsed": false,
    "deletable": true,
    "editable": true
   },
   "outputs": [
    {
     "name": "stdout",
     "output_type": "stream",
     "text": [
      "Help on module fair.forcing.ghan_indirect in fair.forcing:\n",
      "\n",
      "NAME\n",
      "    fair.forcing.ghan_indirect\n",
      "\n",
      "FILE\n",
      "    /nfs/see-fs-02_users/mencsm/FAIR/fair/forcing/ghan_indirect.py\n",
      "\n",
      "DESCRIPTION\n",
      "    # Aerosol indirect effects global model\n",
      "    # Original FORTRAN code by Steve Ghan and colleagues\n",
      "    # Ghan et al, 2013: A simple model of global aerosol indirect effects\n",
      "    # doi 10.1002/jgrd.50567\n",
      "\n",
      "FUNCTIONS\n",
      "    cloud(sigh, fcloud, w, naer, rad, hygro, sigma, rcrit, ndmin, l_wood, tau_rep, r_emb, ncld=20, sccn=0.001)\n",
      "        Calculates cloud albedo which is the returned value\n",
      "        sccn: supersaturation for partitioning by CCN\n",
      "        \n",
      "        ncld: number of cloud pdf steps\n",
      "    \n",
      "    ghan_indirect(npdf=10, scaleh=3000.0, rho_aer=1700.0, lifetime=4.0, sigh=200.0, w=0.3, ndmin=0, srfalbedo=0.1, aername=['Accumulation', 'Aitken', 'Coarse'], naernat=array([2.50e+08, 1.55e+08, 1.70e+06]), radnat=array([7.10e-08, 1.49e-08, 7.84e-07]), sigma=array([1.8, 1.6, 1.8]), naerpd=array([3.86e+08, 1.95e+08, 1.70e+06]), radpd=array([6.70e-08, 1.62e-08, 7.84e-07]), so4nat=array([2.40e-10, 6.48e-12, 7.87e-12]), soanat=array([7.38e-10, 5.22e-13, 0.00e+00]), bcnat=array([2.82e-11, 0.00e+00, 0.00e+00]), pomnat=array([2.86e-10, 0.00e+00, 0.00e+00]), dustnat=array([1.37e-09, 0.00e+00, 2.17e-08]), seasaltnat=array([7.49e-10, 2.05e-12, 1.14e-08]), so4pd=array([7.92e-10, 1.08e-11, 1.83e-11]), soapd=array([8.85e-10, 1.94e-12, 0.00e+00]), bcpd=array([7.53e-11, 0.00e+00, 0.00e+00]), pompd=array([4.67e-10, 0.00e+00, 0.00e+00]), hygroso4=0.5, hygrosoa=0.1, hygroseasalt=1.2, hygrobc=0.0, hygropom=0.0, hygrodust=0.1, radp=array([5.e-08, 1.e+00, 1.e+00]), emitso4=110.0, emitsoa=14.0, emitp=22.0, fnew=0.5, distanthro='mode1', fracmode=None, sccn=0.002, l_aie2=True, l_wood=True, tau_rep=3600.0, rcrit=1e-05, cldloc='uniform', cldfrac=None, fcloud=0.37)\n",
      "        Calculates global aerosol indirect effect from Ghan's simple model.\n",
      "        \n",
      "        Reference:\n",
      "        \n",
      "        Keywords:\n",
      "            distanthro:\n",
      "                'area'    : distribute secondary anthropogenic by natural area\n",
      "                'number'  : distribute secondary anthropogenic by natural number\n",
      "                'mode1'   : put all secondary anthropogenic on mode 1 (default)\n",
      "                'pd'      : use present-day simulation to determine distribution\n",
      "                'specify' : specify distribution\n",
      "                'ccn'     : distribute secondary anthropogenic by CCN(0.1%)\n",
      "            fracmode:\n",
      "                array of fractions of emissions to put on each mode. Used if\n",
      "                distantrho is 'specify'. ::Check fracmode sums to 1 and is correct len::\n",
      "            sccn:\n",
      "                supersaturation for partitioning by CCN.\n",
      "        \n",
      "            cldloc:\n",
      "                'uniform' : assume globally averaged low cloud fraction\n",
      "                'local'   : assume PDF of low cloud fraction\n",
      "            cldfrac:\n",
      "                array of cloud fractions corresponding to each bin member of the PDF\n",
      "    \n",
      "    kk2000(ql, ndrop, A=1350, B=2.47, C=-1.79)\n",
      "        Khairoutdinov-Kogan autoconversion rate calculation\n",
      "        \n",
      "        ql: cloud liquid water content after depletion (kg kg**-1)\n",
      "        ndrop: CCN concentration (cm**-3)\n",
      "    \n",
      "    woodmicro2(Q, h, ndrop, qlad, tau_rep, r_emb=2.2e-05)\n",
      "\n",
      "DATA\n",
      "    ALPHA = 0.000553786731\n",
      "    ATEN = 1.17728057e-09\n",
      "    A_EARTH = 510064471909788.25\n",
      "    A_WOOD = 2.4e-06\n",
      "    BETA = 4.7\n",
      "    DAYS_IN_YEAR = 365.25\n",
      "    GAMMA = 3374173.8\n",
      "    G_THD = 8e-11\n",
      "    RHO_AIR = 1.2\n",
      "    RHO_WATER = 1000.0\n",
      "    RVOLTOEFF = 0.8\n",
      "    R_EARTH = 6371000.0\n",
      "    R_EMB = 2.2e-05\n",
      "    SOLAR_CONSTANT = 1361.0\n",
      "    pi = 3.141592653589793\n",
      "\n",
      "\n"
     ]
    }
   ],
   "source": [
    "help(ghan_indirect)"
   ]
  },
  {
   "cell_type": "code",
   "execution_count": 3,
   "metadata": {
    "collapsed": false,
    "deletable": true,
    "editable": true
   },
   "outputs": [
    {
     "data": {
      "text/plain": [
       "-1.304892542039519"
      ]
     },
     "execution_count": 3,
     "metadata": {},
     "output_type": "execute_result"
    }
   ],
   "source": [
    "ghan_indirect.ghan_indirect(l_wood=False, cldloc='uniform', rcrit=10e-6)"
   ]
  },
  {
   "cell_type": "code",
   "execution_count": 4,
   "metadata": {
    "collapsed": false,
    "deletable": true,
    "editable": true
   },
   "outputs": [
    {
     "name": "stdout",
     "output_type": "stream",
     "text": [
      "100 loops, best of 3: 2.34 ms per loop\n"
     ]
    }
   ],
   "source": [
    "%%timeit\n",
    "ghan_indirect.ghan_indirect(l_wood=False, cldloc='uniform', rcrit=10e-6)"
   ]
  },
  {
   "cell_type": "code",
   "execution_count": 5,
   "metadata": {
    "collapsed": false,
    "deletable": true,
    "editable": true
   },
   "outputs": [
    {
     "name": "stderr",
     "output_type": "stream",
     "text": [
      "/nfs/see-fs-02_users/mencsm/FAIR/fair/forcing/ghan_indirect.py:56: RuntimeWarning: overflow encountered in double_scalars\n",
      "  Q[2] = 4*np.pi*RHO_WATER*rv**3/(3*Q[1])\n",
      "/nfs/see-fs-02_users/mencsm/FAIR/fair/forcing/ghan_indirect.py:51: RuntimeWarning: divide by zero encountered in double_scalars\n",
      "  rv = 3 * Q[1] / (4 * np.pi * RHO_WATER * Q[2])\n",
      "/nfs/see-fs-02_users/mencsm/FAIR/fair/forcing/ghan_indirect.py:51: RuntimeWarning: overflow encountered in double_scalars\n",
      "  rv = 3 * Q[1] / (4 * np.pi * RHO_WATER * Q[2])\n"
     ]
    },
    {
     "name": "stdout",
     "output_type": "stream",
     "text": [
      "10 loops, best of 3: 57.3 ms per loop\n"
     ]
    }
   ],
   "source": [
    "%%timeit\n",
    "ghan_indirect.ghan_indirect(l_wood=True, cldloc='uniform', rcrit=10e-6)"
   ]
  },
  {
   "cell_type": "code",
   "execution_count": 6,
   "metadata": {
    "collapsed": true,
    "deletable": true,
    "editable": true
   },
   "outputs": [],
   "source": [
    "# ghan_indirect.ghan_indirect(l_wood=True)\n",
    "# # default options gives -1.151445816219689\n",
    "\n",
    "\n",
    "# loop back in while I figure out what's going on\n",
    "    \n",
    "#    # for m in range npdf:\n",
    "#    # rad had shape (3)\n",
    "#    # naer had shape (3)\n",
    "#    # anthroso4b.shape = 10, scaleh.shape = float, fracmode.shape = 3\n",
    "#    # expand array to [npdf, nmodes]\n",
    "#    anthroso4conc = anthroso4b[:,None] / scaleh * fracmode[None,:]\n",
    "#    anthrosoaconc = anthrosoab[:,None] / scaleh * fracmode[None,:]\n",
    "#    anthropconc   = anthropb[:,None]   / scaleh * fracmode[None,:]\n",
    "#    anthroconc    = anthroso4conc + anthrosoaconc\n",
    "#    nanthrop = 3. * anthropconc / (4 * np.pi * rho_aer * radp**3) * np.exp(-4.5 * np.log(sigma)**2)\n",
    "#    rad  = (3. * (natconc + anthropconc + (1.-fnewn) * anthroconc) / (4. * (naernat + nanthrop) * np.pi * rho_aer))**(1/3.) * np.exp(-1.5 * np.log(sigma)**2)\n",
    "#    naer = (natconc + anthropconc + anthroconc) * (naernat + nanthrop)/(natconc + anthropconc + (1.-fnewn) * anthroconc)\n",
    "#    print rad.shape, naer.shape\n",
    "#    hygro= (hygronat * natconc + anthroso4conc * hygroso4 + anthrosoaconc * hygrosoa)/(natconc + anthroconc + anthropconc)\n",
    "#    pdcldalbedo = cloud(sigh, cldfrac, w, naer, rad, hygro, sigma, rcrit, ndmin, l_wood, tau_rep, R_EMB)\n",
    "#    pdtranscld = 1.-pdcldalbedo\n",
    "#    net_local = (1.-cldfrac) * (1-srfalbedo) + cldfrac * pdtranscld * (1.-srfalbedo)/(1.-srfalbedo*pdcldalbedo)\n",
    "#    pdnet = np.sum(fanthro * net_local)"
   ]
  },
  {
   "cell_type": "code",
   "execution_count": 7,
   "metadata": {
    "collapsed": true,
    "deletable": true,
    "editable": true
   },
   "outputs": [],
   "source": [
    "# # run ECHAM5-HAM\n",
    "# import numpy as np\n",
    "# ghan_indirect.ghan_indirect(l_wood=False, rcrit=100e-6,\n",
    "#                            naernat = np.array([87, 292, 1.68]) * 1e6,\n",
    "#                            radnat         = np.array([0.083, 0.013, 0.52]) * 1e-6,   # m\n",
    "#                             sigma          = np.array([1.59, 1.59, 2.0]),            # geom. stdev of bins\n",
    "#                            #naerpd  = np.array([180, 313, 1.9]) * 1e6,\n",
    "#                             so4nat = np.array([0.33, 0.011, 0.03]) * 1e-9/1.2,\n",
    "#                             soanat = np.array([0.08, 0.001, 0]) * 1e-9/1.2,\n",
    "#                             bcnat  = np.array([0.01, 0., 0.]) * 1e-9/1.2,\n",
    "#                             pomnat = np.array([0.13, 0.003, 0.]) * 1e-9/1.2,\n",
    "#                            seasaltnat=np.array([0.66, 0., 16.2]) * 1e-9/1.2,\n",
    "#                             dustnat = np.array([0.06, 0., 2.11]) * 1e-9/1.2,\n",
    "#                             emitso4 = 104,\n",
    "#                             emitsoa = 12,\n",
    "#                             emitp = 59,\n",
    "#                            srfalbedo=0.10)"
   ]
  },
  {
   "cell_type": "code",
   "execution_count": 8,
   "metadata": {
    "collapsed": true,
    "deletable": true,
    "editable": true
   },
   "outputs": [],
   "source": [
    "## skeie natural emissions\n",
    "#natural_skeie = np.array([13, 180, 39])"
   ]
  },
  {
   "cell_type": "code",
   "execution_count": 9,
   "metadata": {
    "collapsed": false,
    "deletable": true,
    "editable": true
   },
   "outputs": [
    {
     "name": "stdout",
     "output_type": "stream",
     "text": [
      "[-3.77753384e-14 -2.10374845e-02]\n"
     ]
    },
    {
     "data": {
      "image/png": "[encoded data removed]",
      "text/plain": [
       "<matplotlib.figure.Figure at 0x7f779582c650>"
      ]
     },
     "metadata": {},
     "output_type": "display_data"
    }
   ],
   "source": [
    "from fair.RCPs import rcp85\n",
    "from fair.constants import molwt\n",
    "import numpy as np\n",
    "\n",
    "#print rcp85.Emissions.sox * molwt.SO2/molwt.S\n",
    "#print rcp85.Emissions.bc + rcp85.Emissions.oc\n",
    "\n",
    "# results = np.zeros(250)\n",
    "results2 = np.zeros(250)\n",
    "\n",
    "for i in range(250):\n",
    "    results2[i] = ghan_indirect.ghan_indirect(emitso4=rcp85.Emissions.sox[i] * molwt.SO2/molwt.S,\n",
    "                                  emitp = rcp85.Emissions.bc[i] + rcp85.Emissions.oc[i],\n",
    "                                  emitsoa = rcp85.Emissions.nmvoc[i]/15.,\n",
    "                                  l_wood=False)\n",
    "#     results[i] = ghan_indirect.ghan_indirect(emitso4=rcp85.Emissions.sox[i] * molwt.SO2/molwt.S,\n",
    "#                                   emitp = rcp85.Emissions.bc[i] + rcp85.Emissions.oc[i],\n",
    "#                                   #emitsoa = rcp85.Emissions.nmvoc[i]*0.1,\n",
    "#                                   l_wood=True)\n",
    "\n",
    "import matplotlib.pyplot as pl\n",
    "%matplotlib inline\n",
    "\n",
    "# pl.plot(results)\n",
    "pl.plot(np.arange(1765,2015), results2)\n",
    "print results2[0:2]"
   ]
  },
  {
   "cell_type": "code",
   "execution_count": 10,
   "metadata": {
    "collapsed": true,
    "deletable": true,
    "editable": true
   },
   "outputs": [],
   "source": [
    "# pl.plot(results2/results)\n",
    "# #pl.plot(rcp85.Emissions.sox * molwt.SO2/molwt.S)\n",
    "# #pl.plot(rcp85.Emissions.bc + rcp85.Emissions.oc)\n",
    "# #pl.plot(rcp85.Emissions.nmvoc)"
   ]
  },
  {
   "cell_type": "code",
   "execution_count": 11,
   "metadata": {
    "collapsed": true,
    "deletable": true,
    "editable": true
   },
   "outputs": [],
   "source": [
    "# from fair.RCPs import rcp85\n",
    "# from fair.constants import molwt\n",
    "# import numpy as np"
   ]
  },
  {
   "cell_type": "code",
   "execution_count": 12,
   "metadata": {
    "collapsed": false,
    "deletable": true,
    "editable": true
   },
   "outputs": [
    {
     "name": "stdout",
     "output_type": "stream",
     "text": [
      "1 loop, best of 3: 604 ms per loop\n"
     ]
    }
   ],
   "source": [
    "%%timeit\n",
    "for i in range(250):\n",
    "    ghan_indirect.ghan_indirect(emitso4=rcp85.Emissions.sox[i] * molwt.SO2/molwt.S,\n",
    "                                  emitp = rcp85.Emissions.bc[i] + rcp85.Emissions.oc[i],\n",
    "                                  #emitsoa = rcp85.Emissions.nmvoc[i]*0.1,\n",
    "                                  l_wood=False)"
   ]
  },
  {
   "cell_type": "code",
   "execution_count": 13,
   "metadata": {
    "collapsed": true,
    "deletable": true,
    "editable": true
   },
   "outputs": [],
   "source": [
    "# from fair.forward import fair_scm"
   ]
  },
  {
   "cell_type": "code",
   "execution_count": 14,
   "metadata": {
    "collapsed": true,
    "deletable": true,
    "editable": true
   },
   "outputs": [],
   "source": [
    "# %%timeit\n",
    "# fair_scm(emissions=rcp85.Emissions.emissions)"
   ]
  },
  {
   "cell_type": "code",
   "execution_count": 15,
   "metadata": {
    "collapsed": true,
    "deletable": true,
    "editable": true
   },
   "outputs": [],
   "source": [
    "# ghan_indirect.ghan_indirect(l_wood=False,\n",
    "#                             npdf=4,\n",
    "#                             w=0.1)"
   ]
  },
  {
   "cell_type": "code",
   "execution_count": 16,
   "metadata": {
    "collapsed": true,
    "deletable": true,
    "editable": true
   },
   "outputs": [],
   "source": [
    "# for i in range(250):\n",
    "#     results2[i] = ghan_indirect.ghan_indirect(emitso4=rcp85.Emissions.sox[i] * molwt.SO2/molwt.S,\n",
    "#                                   emitp = rcp85.Emissions.bc[i] + rcp85.Emissions.oc[i],\n",
    "#                                   #emitsoa = rcp85.Emissions.nmvoc[i]*0.1,\n",
    "#                                   l_wood=False,\n",
    "#                                   w=0.1)\n",
    "#     results[i] = ghan_indirect.ghan_indirect(emitso4=rcp85.Emissions.sox[i] * molwt.SO2/molwt.S,\n",
    "#                                   emitp = rcp85.Emissions.bc[i] + rcp85.Emissions.oc[i],\n",
    "#                                   #emitsoa = rcp85.Emissions.nmvoc[i]*0.1,\n",
    "#                                   l_wood=False,\n",
    "#                                   w=1.2)"
   ]
  },
  {
   "cell_type": "code",
   "execution_count": 17,
   "metadata": {
    "collapsed": true,
    "deletable": true,
    "editable": true
   },
   "outputs": [],
   "source": [
    "# pl.plot(results)\n",
    "# pl.plot(results2)"
   ]
  },
  {
   "cell_type": "code",
   "execution_count": 18,
   "metadata": {
    "collapsed": true,
    "deletable": true,
    "editable": true
   },
   "outputs": [],
   "source": [
    "# np.minimum(np.array([0.33, 0.011, 0.03]), 0)"
   ]
  },
  {
   "cell_type": "code",
   "execution_count": 19,
   "metadata": {
    "collapsed": true,
    "deletable": true,
    "editable": true
   },
   "outputs": [],
   "source": [
    "# import numpy as np\n",
    "# import scipy.stats as st"
   ]
  },
  {
   "cell_type": "code",
   "execution_count": 20,
   "metadata": {
    "collapsed": true,
    "deletable": true,
    "editable": true
   },
   "outputs": [],
   "source": [
    "# st.expon.ppf(np.arange(0.05,1,0.1))"
   ]
  },
  {
   "cell_type": "code",
   "execution_count": 21,
   "metadata": {
    "collapsed": true,
    "deletable": true,
    "editable": true
   },
   "outputs": [],
   "source": [
    "# %%timeit\n",
    "# ghan_indirect.ghan_indirect(l_wood=True)"
   ]
  },
  {
   "cell_type": "code",
   "execution_count": 22,
   "metadata": {
    "collapsed": true,
    "deletable": true,
    "editable": true
   },
   "outputs": [],
   "source": [
    "# %%timeit\n",
    "# for i in range(250):\n",
    "#     results2[i] = ghan_indirect.ghan_indirect(emitso4=rcp85.Emissions.sox[i] * molwt.SO2/molwt.S,\n",
    "#                                   emitp = rcp85.Emissions.bc[i] + rcp85.Emissions.oc[i],\n",
    "#                                   #emitsoa = rcp85.Emissions.nmvoc[i]*0.1,\n",
    "#                                   l_wood=True,\n",
    "#                                   )"
   ]
  },
  {
   "cell_type": "code",
   "execution_count": 23,
   "metadata": {
    "collapsed": true,
    "deletable": true,
    "editable": true
   },
   "outputs": [],
   "source": [
    "# %%timeit\n",
    "# for i in range(250):\n",
    "#     results2[i] = ghan_indirect.ghan_indirect(emitso4=rcp85.Emissions.sox[i] * molwt.SO2/molwt.S,\n",
    "#                                   emitp = rcp85.Emissions.bc[i] + rcp85.Emissions.oc[i],\n",
    "#                                   #emitsoa = rcp85.Emissions.nmvoc[i]*0.1,\n",
    "#                                   l_wood=False,\n",
    "#                                   )"
   ]
  },
  {
   "cell_type": "code",
   "execution_count": null,
   "metadata": {
    "collapsed": true,
    "deletable": true,
    "editable": true
   },
   "outputs": [],
   "source": []
  }
 ],
 "metadata": {
  "kernelspec": {
   "display_name": "Python 2",
   "language": "python",
   "name": "python2"
  },
  "language_info": {
   "codemirror_mode": {
    "name": "ipython",
    "version": 2
   },
   "file_extension": ".py",
   "mimetype": "text/x-python",
   "name": "python",
   "nbconvert_exporter": "python",
   "pygments_lexer": "ipython2",
   "version": "2.7.13"
  }
 },
 "nbformat": 4,
 "nbformat_minor": 2
}
