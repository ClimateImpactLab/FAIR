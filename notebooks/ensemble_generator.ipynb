{
 "cells": [
  {
   "cell_type": "markdown",
   "metadata": {
    "deletable": true,
    "editable": true
   },
   "source": [
    "# Ensemble generation\n",
    "This notebook shows how to use the built-in ensemble generator."
   ]
  },
  {
   "cell_type": "code",
   "execution_count": null,
   "metadata": {
    "collapsed": false,
    "deletable": true,
    "editable": true
   },
   "outputs": [],
   "source": [
    "import numpy as np\n",
    "from fair.tools import ensemble\n",
    "from fair.forward import fair_scm\n",
    "from fair.RCPs import rcp45\n",
    "import matplotlib.pyplot as pl\n",
    "\n",
    "%matplotlib inline"
   ]
  },
  {
   "cell_type": "code",
   "execution_count": null,
   "metadata": {
    "collapsed": false,
    "deletable": true,
    "editable": true
   },
   "outputs": [],
   "source": [
    "help(ensemble.tcrecs_generate)"
   ]
  },
  {
   "cell_type": "code",
   "execution_count": null,
   "metadata": {
    "collapsed": false,
    "deletable": true,
    "editable": true
   },
   "outputs": [],
   "source": [
    "# Generate 10000 ECS/TCR pairs from a joint lognormal distribution based on CMIP5 data.\n",
    "tcrecs = ensemble.tcrecs_generate(tcrecs_in='cmip5',\n",
    "                                  dist='lognorm',\n",
    "                                  n=10000,\n",
    "                                  correlated=True,\n",
    "                                  strip_ecs_lt_tcr=True,\n",
    "                                  seed=40000,   # for repeatability\n",
    "                                 )"
   ]
  },
  {
   "cell_type": "code",
   "execution_count": null,
   "metadata": {
    "collapsed": false,
    "deletable": true,
    "editable": true
   },
   "outputs": [],
   "source": [
    "pl.hist2d(tcrecs[:,0], tcrecs[:,1], bins = ((np.arange(0,5,0.1)), np.arange(0,8,0.1)), cmin=1);\n",
    "pl.xlabel('TCR, K');\n",
    "pl.ylabel('ECS, K');"
   ]
  },
  {
   "cell_type": "code",
   "execution_count": null,
   "metadata": {
    "collapsed": false,
    "deletable": true,
    "editable": true
   },
   "outputs": [],
   "source": [
    "# Run FAIR with this ensemble. We'll just use first 100 members for efficiency\n",
    "nens = 100\n",
    "years = np.arange(1765,2501)\n",
    "nt = len(years)\n",
    "T = np.ones((nt, nens)) * np.nan\n",
    "for i in range(nens):\n",
    "    _, _, T[:, i] = fair_scm(rcp45.Emissions.emissions,\n",
    "                             tcrecs=tcrecs[i,:])"
   ]
  },
  {
   "cell_type": "code",
   "execution_count": null,
   "metadata": {
    "collapsed": false,
    "deletable": true,
    "editable": true
   },
   "outputs": [],
   "source": [
    "# These below temperature plots all have the same emissions, carbon cycle and radiative forcing scale factors but very\n",
    "# different temperature behaviour resulting from ECS and TCR differences.\n",
    "pl.plot(years, T);\n",
    "pl.xlabel('year');\n",
    "pl.ylabel('temperature, K');"
   ]
  }
 ],
 "metadata": {
  "kernelspec": {
   "display_name": "Python 2",
   "language": "python",
   "name": "python2"
  },
  "language_info": {
   "codemirror_mode": {
    "name": "ipython",
    "version": 2
   },
   "file_extension": ".py",
   "mimetype": "text/x-python",
   "name": "python",
   "nbconvert_exporter": "python",
   "pygments_lexer": "ipython2",
   "version": "2.7.13"
  }
 },
 "nbformat": 4,
 "nbformat_minor": 2
}
