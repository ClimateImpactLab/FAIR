{
 "cells": [
  {
   "cell_type": "code",
   "execution_count": 2,
   "metadata": {
    "collapsed": true
   },
   "outputs": [],
   "source": [
    "import xarray as xr\n",
    "import numpy as np"
   ]
  },
  {
   "cell_type": "code",
   "execution_count": 10,
   "metadata": {
    "collapsed": false
   },
   "outputs": [],
   "source": [
    "conc = xr.DataArray(\n",
    "    np.array([np.arange(100,500),np.ones(400)*278]),\n",
    "    dims=('species','time'),\n",
    "    coords={\n",
    "        'species': ['N2O','CO2'],\n",
    "        'time': np.arange(1850,2250),\n",
    "    }\n",
    ")"
   ]
  },
  {
   "cell_type": "code",
   "execution_count": 11,
   "metadata": {
    "collapsed": false
   },
   "outputs": [
    {
     "data": {
      "text/plain": [
       "<xarray.DataArray (species: 2, time: 400)>\n",
       "array([[ 100.,  101.,  102., ...,  497.,  498.,  499.],\n",
       "       [ 278.,  278.,  278., ...,  278.,  278.,  278.]])\n",
       "Coordinates:\n",
       "  * species  (species) <U3 'N2O' 'CO2'\n",
       "  * time     (time) int64 1850 1851 1852 1853 1854 1855 1856 1857 1858 1859 ..."
      ]
     },
     "execution_count": 11,
     "metadata": {},
     "output_type": "execute_result"
    }
   ],
   "source": [
    "conc"
   ]
  },
  {
   "cell_type": "code",
   "execution_count": null,
   "metadata": {
    "collapsed": true
   },
   "outputs": [],
   "source": []
  }
 ],
 "metadata": {
  "kernelspec": {
   "display_name": "Python 3",
   "language": "python",
   "name": "python3"
  },
  "language_info": {
   "codemirror_mode": {
    "name": "ipython",
    "version": 3
   },
   "file_extension": ".py",
   "mimetype": "text/x-python",
   "name": "python",
   "nbconvert_exporter": "python",
   "pygments_lexer": "ipython3",
   "version": "3.5.2"
  }
 },
 "nbformat": 4,
 "nbformat_minor": 2
}
